{
 "cells": [
  {
   "cell_type": "markdown",
   "id": "f3be1dab",
   "metadata": {},
   "source": [
    "## Previsão de Churn de Clientes\n",
    "Nesse projeto, faremos um modelo para prever cancelamentos de clientes com base em seu..."
   ]
  },
  {
   "cell_type": "code",
   "execution_count": 1,
   "id": "5af4ab0a",
   "metadata": {},
   "outputs": [],
   "source": [
    "### Importação de bibliotecas\n",
    "import pandas as pd\n",
    "import numpy as np\n",
    "import matplotlib.pyplot as plt\n",
    "import warnings\n",
    "warnings.filterwarnings(\"ignore\")"
   ]
  },
  {
   "cell_type": "markdown",
   "id": "56318173",
   "metadata": {},
   "source": [
    "### Importação e Análise Exploratória dos Dados"
   ]
  },
  {
   "cell_type": "code",
   "execution_count": 2,
   "id": "1c4cbc42",
   "metadata": {},
   "outputs": [],
   "source": [
    "# Importando dados\n",
    "df = pd.read_csv('customer_churn_data.csv')"
   ]
  },
  {
   "cell_type": "code",
   "execution_count": 3,
   "id": "1bf03c52",
   "metadata": {},
   "outputs": [
    {
     "data": {
      "text/html": [
       "<div>\n",
       "<style scoped>\n",
       "    .dataframe tbody tr th:only-of-type {\n",
       "        vertical-align: middle;\n",
       "    }\n",
       "\n",
       "    .dataframe tbody tr th {\n",
       "        vertical-align: top;\n",
       "    }\n",
       "\n",
       "    .dataframe thead th {\n",
       "        text-align: right;\n",
       "    }\n",
       "</style>\n",
       "<table border=\"1\" class=\"dataframe\">\n",
       "  <thead>\n",
       "    <tr style=\"text-align: right;\">\n",
       "      <th></th>\n",
       "      <th>CustomerID</th>\n",
       "      <th>Age</th>\n",
       "      <th>Gender</th>\n",
       "      <th>Tenure</th>\n",
       "      <th>MonthlyCharges</th>\n",
       "      <th>ContractType</th>\n",
       "      <th>InternetService</th>\n",
       "      <th>TotalCharges</th>\n",
       "      <th>TechSupport</th>\n",
       "      <th>Churn</th>\n",
       "    </tr>\n",
       "  </thead>\n",
       "  <tbody>\n",
       "    <tr>\n",
       "      <th>0</th>\n",
       "      <td>1</td>\n",
       "      <td>49</td>\n",
       "      <td>Male</td>\n",
       "      <td>4</td>\n",
       "      <td>88.35</td>\n",
       "      <td>Month-to-Month</td>\n",
       "      <td>Fiber Optic</td>\n",
       "      <td>353.40</td>\n",
       "      <td>Yes</td>\n",
       "      <td>Yes</td>\n",
       "    </tr>\n",
       "    <tr>\n",
       "      <th>1</th>\n",
       "      <td>2</td>\n",
       "      <td>43</td>\n",
       "      <td>Male</td>\n",
       "      <td>0</td>\n",
       "      <td>36.67</td>\n",
       "      <td>Month-to-Month</td>\n",
       "      <td>Fiber Optic</td>\n",
       "      <td>0.00</td>\n",
       "      <td>Yes</td>\n",
       "      <td>Yes</td>\n",
       "    </tr>\n",
       "    <tr>\n",
       "      <th>2</th>\n",
       "      <td>3</td>\n",
       "      <td>51</td>\n",
       "      <td>Female</td>\n",
       "      <td>2</td>\n",
       "      <td>63.79</td>\n",
       "      <td>Month-to-Month</td>\n",
       "      <td>Fiber Optic</td>\n",
       "      <td>127.58</td>\n",
       "      <td>No</td>\n",
       "      <td>Yes</td>\n",
       "    </tr>\n",
       "    <tr>\n",
       "      <th>3</th>\n",
       "      <td>4</td>\n",
       "      <td>60</td>\n",
       "      <td>Female</td>\n",
       "      <td>8</td>\n",
       "      <td>102.34</td>\n",
       "      <td>One-Year</td>\n",
       "      <td>DSL</td>\n",
       "      <td>818.72</td>\n",
       "      <td>Yes</td>\n",
       "      <td>Yes</td>\n",
       "    </tr>\n",
       "    <tr>\n",
       "      <th>4</th>\n",
       "      <td>5</td>\n",
       "      <td>42</td>\n",
       "      <td>Male</td>\n",
       "      <td>32</td>\n",
       "      <td>69.01</td>\n",
       "      <td>Month-to-Month</td>\n",
       "      <td>NaN</td>\n",
       "      <td>2208.32</td>\n",
       "      <td>No</td>\n",
       "      <td>Yes</td>\n",
       "    </tr>\n",
       "  </tbody>\n",
       "</table>\n",
       "</div>"
      ],
      "text/plain": [
       "   CustomerID  Age  Gender  Tenure  MonthlyCharges    ContractType  \\\n",
       "0           1   49    Male       4           88.35  Month-to-Month   \n",
       "1           2   43    Male       0           36.67  Month-to-Month   \n",
       "2           3   51  Female       2           63.79  Month-to-Month   \n",
       "3           4   60  Female       8          102.34        One-Year   \n",
       "4           5   42    Male      32           69.01  Month-to-Month   \n",
       "\n",
       "  InternetService  TotalCharges TechSupport Churn  \n",
       "0     Fiber Optic        353.40         Yes   Yes  \n",
       "1     Fiber Optic          0.00         Yes   Yes  \n",
       "2     Fiber Optic        127.58          No   Yes  \n",
       "3             DSL        818.72         Yes   Yes  \n",
       "4             NaN       2208.32          No   Yes  "
      ]
     },
     "execution_count": 3,
     "metadata": {},
     "output_type": "execute_result"
    }
   ],
   "source": [
    "# Visualização geral\n",
    "df.head()"
   ]
  },
  {
   "cell_type": "code",
   "execution_count": 4,
   "id": "18ed679b",
   "metadata": {},
   "outputs": [
    {
     "data": {
      "text/plain": [
       "(1000, 10)"
      ]
     },
     "execution_count": 4,
     "metadata": {},
     "output_type": "execute_result"
    }
   ],
   "source": [
    "# Tamanho do dataset\n",
    "df.shape"
   ]
  },
  {
   "cell_type": "code",
   "execution_count": 5,
   "id": "88410b8f",
   "metadata": {},
   "outputs": [
    {
     "name": "stdout",
     "output_type": "stream",
     "text": [
      "<class 'pandas.core.frame.DataFrame'>\n",
      "RangeIndex: 1000 entries, 0 to 999\n",
      "Data columns (total 10 columns):\n",
      " #   Column           Non-Null Count  Dtype  \n",
      "---  ------           --------------  -----  \n",
      " 0   CustomerID       1000 non-null   int64  \n",
      " 1   Age              1000 non-null   int64  \n",
      " 2   Gender           1000 non-null   object \n",
      " 3   Tenure           1000 non-null   int64  \n",
      " 4   MonthlyCharges   1000 non-null   float64\n",
      " 5   ContractType     1000 non-null   object \n",
      " 6   InternetService  703 non-null    object \n",
      " 7   TotalCharges     1000 non-null   float64\n",
      " 8   TechSupport      1000 non-null   object \n",
      " 9   Churn            1000 non-null   object \n",
      "dtypes: float64(2), int64(3), object(5)\n",
      "memory usage: 78.3+ KB\n"
     ]
    }
   ],
   "source": [
    "# Tipo dos dados\n",
    "df.info()"
   ]
  },
  {
   "cell_type": "code",
   "execution_count": 6,
   "id": "0a04b880",
   "metadata": {},
   "outputs": [
    {
     "data": {
      "text/plain": [
       "CustomerID           0\n",
       "Age                  0\n",
       "Gender               0\n",
       "Tenure               0\n",
       "MonthlyCharges       0\n",
       "ContractType         0\n",
       "InternetService    297\n",
       "TotalCharges         0\n",
       "TechSupport          0\n",
       "Churn                0\n",
       "dtype: int64"
      ]
     },
     "execution_count": 6,
     "metadata": {},
     "output_type": "execute_result"
    }
   ],
   "source": [
    "# Valores nulos\n",
    "df.isna().sum()"
   ]
  },
  {
   "cell_type": "code",
   "execution_count": 7,
   "id": "ced79917",
   "metadata": {},
   "outputs": [
    {
     "data": {
      "text/plain": [
       "0"
      ]
     },
     "execution_count": 7,
     "metadata": {},
     "output_type": "execute_result"
    }
   ],
   "source": [
    "# Valores duplicados\n",
    "df.duplicated().sum()"
   ]
  },
  {
   "cell_type": "code",
   "execution_count": 8,
   "id": "4ac7b1f5",
   "metadata": {},
   "outputs": [],
   "source": [
    "df['InternetService'] = df['InternetService'].fillna('')"
   ]
  },
  {
   "cell_type": "code",
   "execution_count": 9,
   "id": "d01fcd9a",
   "metadata": {},
   "outputs": [
    {
     "data": {
      "text/plain": [
       "CustomerID         0\n",
       "Age                0\n",
       "Gender             0\n",
       "Tenure             0\n",
       "MonthlyCharges     0\n",
       "ContractType       0\n",
       "InternetService    0\n",
       "TotalCharges       0\n",
       "TechSupport        0\n",
       "Churn              0\n",
       "dtype: int64"
      ]
     },
     "execution_count": 9,
     "metadata": {},
     "output_type": "execute_result"
    }
   ],
   "source": [
    "df.isna().sum()"
   ]
  },
  {
   "cell_type": "code",
   "execution_count": 10,
   "id": "03da6776",
   "metadata": {},
   "outputs": [
    {
     "data": {
      "text/html": [
       "<div>\n",
       "<style scoped>\n",
       "    .dataframe tbody tr th:only-of-type {\n",
       "        vertical-align: middle;\n",
       "    }\n",
       "\n",
       "    .dataframe tbody tr th {\n",
       "        vertical-align: top;\n",
       "    }\n",
       "\n",
       "    .dataframe thead th {\n",
       "        text-align: right;\n",
       "    }\n",
       "</style>\n",
       "<table border=\"1\" class=\"dataframe\">\n",
       "  <thead>\n",
       "    <tr style=\"text-align: right;\">\n",
       "      <th></th>\n",
       "      <th>CustomerID</th>\n",
       "      <th>Age</th>\n",
       "      <th>Tenure</th>\n",
       "      <th>MonthlyCharges</th>\n",
       "      <th>TotalCharges</th>\n",
       "    </tr>\n",
       "  </thead>\n",
       "  <tbody>\n",
       "    <tr>\n",
       "      <th>count</th>\n",
       "      <td>1000.000000</td>\n",
       "      <td>1000.000000</td>\n",
       "      <td>1000.00000</td>\n",
       "      <td>1000.000000</td>\n",
       "      <td>1000.000000</td>\n",
       "    </tr>\n",
       "    <tr>\n",
       "      <th>mean</th>\n",
       "      <td>500.500000</td>\n",
       "      <td>44.674000</td>\n",
       "      <td>18.97300</td>\n",
       "      <td>74.391290</td>\n",
       "      <td>1404.364060</td>\n",
       "    </tr>\n",
       "    <tr>\n",
       "      <th>std</th>\n",
       "      <td>288.819436</td>\n",
       "      <td>9.797741</td>\n",
       "      <td>18.89257</td>\n",
       "      <td>25.712083</td>\n",
       "      <td>1571.755048</td>\n",
       "    </tr>\n",
       "    <tr>\n",
       "      <th>min</th>\n",
       "      <td>1.000000</td>\n",
       "      <td>12.000000</td>\n",
       "      <td>0.00000</td>\n",
       "      <td>30.000000</td>\n",
       "      <td>0.000000</td>\n",
       "    </tr>\n",
       "    <tr>\n",
       "      <th>25%</th>\n",
       "      <td>250.750000</td>\n",
       "      <td>38.000000</td>\n",
       "      <td>5.00000</td>\n",
       "      <td>52.357500</td>\n",
       "      <td>345.217500</td>\n",
       "    </tr>\n",
       "    <tr>\n",
       "      <th>50%</th>\n",
       "      <td>500.500000</td>\n",
       "      <td>45.000000</td>\n",
       "      <td>13.00000</td>\n",
       "      <td>74.060000</td>\n",
       "      <td>872.870000</td>\n",
       "    </tr>\n",
       "    <tr>\n",
       "      <th>75%</th>\n",
       "      <td>750.250000</td>\n",
       "      <td>51.000000</td>\n",
       "      <td>26.00000</td>\n",
       "      <td>96.102500</td>\n",
       "      <td>1900.175000</td>\n",
       "    </tr>\n",
       "    <tr>\n",
       "      <th>max</th>\n",
       "      <td>1000.000000</td>\n",
       "      <td>83.000000</td>\n",
       "      <td>122.00000</td>\n",
       "      <td>119.960000</td>\n",
       "      <td>12416.250000</td>\n",
       "    </tr>\n",
       "  </tbody>\n",
       "</table>\n",
       "</div>"
      ],
      "text/plain": [
       "        CustomerID          Age      Tenure  MonthlyCharges  TotalCharges\n",
       "count  1000.000000  1000.000000  1000.00000     1000.000000   1000.000000\n",
       "mean    500.500000    44.674000    18.97300       74.391290   1404.364060\n",
       "std     288.819436     9.797741    18.89257       25.712083   1571.755048\n",
       "min       1.000000    12.000000     0.00000       30.000000      0.000000\n",
       "25%     250.750000    38.000000     5.00000       52.357500    345.217500\n",
       "50%     500.500000    45.000000    13.00000       74.060000    872.870000\n",
       "75%     750.250000    51.000000    26.00000       96.102500   1900.175000\n",
       "max    1000.000000    83.000000   122.00000      119.960000  12416.250000"
      ]
     },
     "execution_count": 10,
     "metadata": {},
     "output_type": "execute_result"
    }
   ],
   "source": [
    "# Verificando medidas estatísticas das variáveis\n",
    "df.describe()"
   ]
  },
  {
   "cell_type": "code",
   "execution_count": 11,
   "id": "8e5dafc5-5156-4738-8c9e-1f32852c6a12",
   "metadata": {},
   "outputs": [
    {
     "data": {
      "text/html": [
       "<div>\n",
       "<style scoped>\n",
       "    .dataframe tbody tr th:only-of-type {\n",
       "        vertical-align: middle;\n",
       "    }\n",
       "\n",
       "    .dataframe tbody tr th {\n",
       "        vertical-align: top;\n",
       "    }\n",
       "\n",
       "    .dataframe thead th {\n",
       "        text-align: right;\n",
       "    }\n",
       "</style>\n",
       "<table border=\"1\" class=\"dataframe\">\n",
       "  <thead>\n",
       "    <tr style=\"text-align: right;\">\n",
       "      <th></th>\n",
       "      <th>CustomerID</th>\n",
       "      <th>Age</th>\n",
       "      <th>Tenure</th>\n",
       "      <th>MonthlyCharges</th>\n",
       "      <th>TotalCharges</th>\n",
       "    </tr>\n",
       "  </thead>\n",
       "  <tbody>\n",
       "    <tr>\n",
       "      <th>0</th>\n",
       "      <td>1</td>\n",
       "      <td>49</td>\n",
       "      <td>4</td>\n",
       "      <td>88.35</td>\n",
       "      <td>353.40</td>\n",
       "    </tr>\n",
       "    <tr>\n",
       "      <th>1</th>\n",
       "      <td>2</td>\n",
       "      <td>43</td>\n",
       "      <td>0</td>\n",
       "      <td>36.67</td>\n",
       "      <td>0.00</td>\n",
       "    </tr>\n",
       "    <tr>\n",
       "      <th>2</th>\n",
       "      <td>3</td>\n",
       "      <td>51</td>\n",
       "      <td>2</td>\n",
       "      <td>63.79</td>\n",
       "      <td>127.58</td>\n",
       "    </tr>\n",
       "    <tr>\n",
       "      <th>3</th>\n",
       "      <td>4</td>\n",
       "      <td>60</td>\n",
       "      <td>8</td>\n",
       "      <td>102.34</td>\n",
       "      <td>818.72</td>\n",
       "    </tr>\n",
       "    <tr>\n",
       "      <th>4</th>\n",
       "      <td>5</td>\n",
       "      <td>42</td>\n",
       "      <td>32</td>\n",
       "      <td>69.01</td>\n",
       "      <td>2208.32</td>\n",
       "    </tr>\n",
       "    <tr>\n",
       "      <th>...</th>\n",
       "      <td>...</td>\n",
       "      <td>...</td>\n",
       "      <td>...</td>\n",
       "      <td>...</td>\n",
       "      <td>...</td>\n",
       "    </tr>\n",
       "    <tr>\n",
       "      <th>995</th>\n",
       "      <td>996</td>\n",
       "      <td>42</td>\n",
       "      <td>41</td>\n",
       "      <td>37.14</td>\n",
       "      <td>1522.74</td>\n",
       "    </tr>\n",
       "    <tr>\n",
       "      <th>996</th>\n",
       "      <td>997</td>\n",
       "      <td>62</td>\n",
       "      <td>9</td>\n",
       "      <td>80.93</td>\n",
       "      <td>728.37</td>\n",
       "    </tr>\n",
       "    <tr>\n",
       "      <th>997</th>\n",
       "      <td>998</td>\n",
       "      <td>51</td>\n",
       "      <td>15</td>\n",
       "      <td>111.72</td>\n",
       "      <td>1675.80</td>\n",
       "    </tr>\n",
       "    <tr>\n",
       "      <th>998</th>\n",
       "      <td>999</td>\n",
       "      <td>39</td>\n",
       "      <td>68</td>\n",
       "      <td>65.67</td>\n",
       "      <td>4465.56</td>\n",
       "    </tr>\n",
       "    <tr>\n",
       "      <th>999</th>\n",
       "      <td>1000</td>\n",
       "      <td>50</td>\n",
       "      <td>1</td>\n",
       "      <td>56.67</td>\n",
       "      <td>56.67</td>\n",
       "    </tr>\n",
       "  </tbody>\n",
       "</table>\n",
       "<p>1000 rows × 5 columns</p>\n",
       "</div>"
      ],
      "text/plain": [
       "     CustomerID  Age  Tenure  MonthlyCharges  TotalCharges\n",
       "0             1   49       4           88.35        353.40\n",
       "1             2   43       0           36.67          0.00\n",
       "2             3   51       2           63.79        127.58\n",
       "3             4   60       8          102.34        818.72\n",
       "4             5   42      32           69.01       2208.32\n",
       "..          ...  ...     ...             ...           ...\n",
       "995         996   42      41           37.14       1522.74\n",
       "996         997   62       9           80.93        728.37\n",
       "997         998   51      15          111.72       1675.80\n",
       "998         999   39      68           65.67       4465.56\n",
       "999        1000   50       1           56.67         56.67\n",
       "\n",
       "[1000 rows x 5 columns]"
      ]
     },
     "execution_count": 11,
     "metadata": {},
     "output_type": "execute_result"
    }
   ],
   "source": [
    "# Analisando colunas numéricas\n",
    "numeric = df.select_dtypes(include=['number'])\n",
    "numeric"
   ]
  },
  {
   "cell_type": "code",
   "execution_count": 12,
   "id": "84e41cf1-70c4-42ec-b9f2-235d3419c68d",
   "metadata": {},
   "outputs": [
    {
     "data": {
      "text/html": [
       "<div>\n",
       "<style scoped>\n",
       "    .dataframe tbody tr th:only-of-type {\n",
       "        vertical-align: middle;\n",
       "    }\n",
       "\n",
       "    .dataframe tbody tr th {\n",
       "        vertical-align: top;\n",
       "    }\n",
       "\n",
       "    .dataframe thead th {\n",
       "        text-align: right;\n",
       "    }\n",
       "</style>\n",
       "<table border=\"1\" class=\"dataframe\">\n",
       "  <thead>\n",
       "    <tr style=\"text-align: right;\">\n",
       "      <th></th>\n",
       "      <th>CustomerID</th>\n",
       "      <th>Age</th>\n",
       "      <th>Tenure</th>\n",
       "      <th>MonthlyCharges</th>\n",
       "      <th>TotalCharges</th>\n",
       "    </tr>\n",
       "  </thead>\n",
       "  <tbody>\n",
       "    <tr>\n",
       "      <th>CustomerID</th>\n",
       "      <td>1.000000</td>\n",
       "      <td>0.036730</td>\n",
       "      <td>-0.018585</td>\n",
       "      <td>-0.030504</td>\n",
       "      <td>-0.027490</td>\n",
       "    </tr>\n",
       "    <tr>\n",
       "      <th>Age</th>\n",
       "      <td>0.036730</td>\n",
       "      <td>1.000000</td>\n",
       "      <td>0.000472</td>\n",
       "      <td>0.006362</td>\n",
       "      <td>-0.001896</td>\n",
       "    </tr>\n",
       "    <tr>\n",
       "      <th>Tenure</th>\n",
       "      <td>-0.018585</td>\n",
       "      <td>0.000472</td>\n",
       "      <td>1.000000</td>\n",
       "      <td>-0.014552</td>\n",
       "      <td>0.894868</td>\n",
       "    </tr>\n",
       "    <tr>\n",
       "      <th>MonthlyCharges</th>\n",
       "      <td>-0.030504</td>\n",
       "      <td>0.006362</td>\n",
       "      <td>-0.014552</td>\n",
       "      <td>1.000000</td>\n",
       "      <td>0.304893</td>\n",
       "    </tr>\n",
       "    <tr>\n",
       "      <th>TotalCharges</th>\n",
       "      <td>-0.027490</td>\n",
       "      <td>-0.001896</td>\n",
       "      <td>0.894868</td>\n",
       "      <td>0.304893</td>\n",
       "      <td>1.000000</td>\n",
       "    </tr>\n",
       "  </tbody>\n",
       "</table>\n",
       "</div>"
      ],
      "text/plain": [
       "                CustomerID       Age    Tenure  MonthlyCharges  TotalCharges\n",
       "CustomerID        1.000000  0.036730 -0.018585       -0.030504     -0.027490\n",
       "Age               0.036730  1.000000  0.000472        0.006362     -0.001896\n",
       "Tenure           -0.018585  0.000472  1.000000       -0.014552      0.894868\n",
       "MonthlyCharges   -0.030504  0.006362 -0.014552        1.000000      0.304893\n",
       "TotalCharges     -0.027490 -0.001896  0.894868        0.304893      1.000000"
      ]
     },
     "execution_count": 12,
     "metadata": {},
     "output_type": "execute_result"
    }
   ],
   "source": [
    "# Avaliando a correlação\n",
    "numeric.corr()"
   ]
  },
  {
   "cell_type": "code",
   "execution_count": 13,
   "id": "d23b503d-6571-4401-a7a8-da8fd578577a",
   "metadata": {},
   "outputs": [
    {
     "data": {
      "image/png": "[encoded data removed]",
      "text/plain": [
       "<Figure size 640x480 with 1 Axes>"
      ]
     },
     "metadata": {},
     "output_type": "display_data"
    }
   ],
   "source": [
    "df['Churn'].value_counts().plot(kind='pie')\n",
    "plt.title('Churn')\n",
    "plt.ylabel('')\n",
    "plt.show()"
   ]
  },
  {
   "cell_type": "code",
   "execution_count": 14,
   "id": "89e0a93b-dfec-4143-9d98-d61e1b5ea591",
   "metadata": {},
   "outputs": [
    {
     "data": {
      "text/plain": [
       "Churn  Gender\n",
       "No     Female     68\n",
       "       Male       49\n",
       "Yes    Female    470\n",
       "       Male      413\n",
       "Name: Gender, dtype: int64"
      ]
     },
     "execution_count": 14,
     "metadata": {},
     "output_type": "execute_result"
    }
   ],
   "source": [
    "df.groupby(['Churn', 'Gender'])['Gender'].count()"
   ]
  },
  {
   "cell_type": "code",
   "execution_count": 15,
   "id": "cb886cf7-a0b2-484d-b121-75bc0c3a319f",
   "metadata": {},
   "outputs": [
    {
     "data": {
      "text/plain": [
       "ContractType\n",
       "Month-to-Month    511\n",
       "One-Year          289\n",
       "Two-Year          200\n",
       "Name: ContractType, dtype: int64"
      ]
     },
     "execution_count": 15,
     "metadata": {},
     "output_type": "execute_result"
    }
   ],
   "source": [
    "# Contract Type x Churn\n",
    "df.groupby('ContractType')['ContractType'].count()"
   ]
  },
  {
   "cell_type": "code",
   "execution_count": 16,
   "id": "57f1944e-1aed-43fe-b65a-318e2aee10a8",
   "metadata": {},
   "outputs": [
    {
     "data": {
      "text/plain": [
       "ContractType    Churn\n",
       "Month-to-Month  Yes      511\n",
       "One-Year        No        71\n",
       "                Yes      218\n",
       "Two-Year        No        46\n",
       "                Yes      154\n",
       "Name: Churn, dtype: int64"
      ]
     },
     "execution_count": 16,
     "metadata": {},
     "output_type": "execute_result"
    }
   ],
   "source": [
    "# Contract Type x Churn\n",
    "df.groupby(['ContractType', 'Churn'])['Churn'].count()"
   ]
  },
  {
   "cell_type": "code",
   "execution_count": 17,
   "id": "690c2cd8-a851-4e03-9b0b-82d1826342e7",
   "metadata": {},
   "outputs": [
    {
     "data": {
      "text/plain": [
       "TechSupport  Churn\n",
       "No           Yes      494\n",
       "Yes          No       117\n",
       "             Yes      389\n",
       "Name: TechSupport, dtype: int64"
      ]
     },
     "execution_count": 17,
     "metadata": {},
     "output_type": "execute_result"
    }
   ],
   "source": [
    "# Tech Support x Churn\n",
    "df.groupby(['TechSupport', 'Churn'])['TechSupport'].count()"
   ]
  },
  {
   "cell_type": "code",
   "execution_count": 18,
   "id": "73fbbed4-52a1-4b15-8538-676a2d8e2f95",
   "metadata": {},
   "outputs": [
    {
     "data": {
      "text/plain": [
       "Churn  ContractType  \n",
       "No     One-Year           71\n",
       "       Two-Year           46\n",
       "Yes    Month-to-Month    511\n",
       "       One-Year          218\n",
       "       Two-Year          154\n",
       "Name: ContractType, dtype: int64"
      ]
     },
     "execution_count": 18,
     "metadata": {},
     "output_type": "execute_result"
    }
   ],
   "source": [
    "# Contract Type x Churn\n",
    "df.groupby(['Churn', 'ContractType'])['ContractType'].count()"
   ]
  },
  {
   "cell_type": "code",
   "execution_count": 19,
   "id": "f02f3121-8dce-4581-aee0-c77fecd17af5",
   "metadata": {},
   "outputs": [
    {
     "data": {
      "text/plain": [
       "Churn\n",
       "No     62.54641\n",
       "Yes    75.96077\n",
       "Name: MonthlyCharges, dtype: float64"
      ]
     },
     "execution_count": 19,
     "metadata": {},
     "output_type": "execute_result"
    }
   ],
   "source": [
    "# Média de taxas pagas x Churn\n",
    "df.groupby('Churn')['MonthlyCharges'].mean()"
   ]
  },
  {
   "cell_type": "code",
   "execution_count": 20,
   "id": "0abd8b2f-0688-41ff-add7-880c5faf0a2b",
   "metadata": {},
   "outputs": [
    {
     "data": {
      "text/plain": [
       "Churn  Gender\n",
       "No     Female    65.091912\n",
       "       Male      59.013878\n",
       "Yes    Female    74.975064\n",
       "       Male      77.082518\n",
       "Name: MonthlyCharges, dtype: float64"
      ]
     },
     "execution_count": 20,
     "metadata": {},
     "output_type": "execute_result"
    }
   ],
   "source": [
    "# Gênero x Churn\n",
    "df.groupby(['Churn', 'Gender'])['MonthlyCharges'].mean()"
   ]
  },
  {
   "cell_type": "code",
   "execution_count": 21,
   "id": "43193e18-8784-43e1-bcef-6163a296004d",
   "metadata": {},
   "outputs": [
    {
     "data": {
      "text/plain": [
       "Churn\n",
       "No     30.264957\n",
       "Yes    17.476784\n",
       "Name: Tenure, dtype: float64"
      ]
     },
     "execution_count": 21,
     "metadata": {},
     "output_type": "execute_result"
    }
   ],
   "source": [
    "# Tempo médio como cliente x Churn\n",
    "df.groupby('Churn')['Tenure'].mean()"
   ]
  },
  {
   "cell_type": "code",
   "execution_count": 22,
   "id": "f92bde8d-3e84-4922-9ae6-3ca43e09abb0",
   "metadata": {},
   "outputs": [
    {
     "data": {
      "text/plain": [
       "Churn\n",
       "No     43.487179\n",
       "Yes    44.831257\n",
       "Name: Age, dtype: float64"
      ]
     },
     "execution_count": 22,
     "metadata": {},
     "output_type": "execute_result"
    }
   ],
   "source": [
    "# Média de idade x Churn \n",
    "df.groupby('Churn')['Age'].mean()"
   ]
  },
  {
   "cell_type": "code",
   "execution_count": 23,
   "id": "0d84eaf7-92cc-4687-95e6-607b847274a8",
   "metadata": {},
   "outputs": [
    {
     "data": {
      "text/plain": [
       "ContractType\n",
       "Month-to-Month    75.909198\n",
       "One-Year          73.822803\n",
       "Two-Year          71.334500\n",
       "Name: MonthlyCharges, dtype: float64"
      ]
     },
     "execution_count": 23,
     "metadata": {},
     "output_type": "execute_result"
    }
   ],
   "source": [
    "# at the lower terms we can see that the monthly charge average decreases\n",
    "df.groupby('ContractType')['MonthlyCharges'].mean()"
   ]
  },
  {
   "cell_type": "code",
   "execution_count": 24,
   "id": "3f90007c-c388-4d77-83f3-01ed3b172a29",
   "metadata": {},
   "outputs": [
    {
     "data": {
      "image/png": "[encoded data removed]",
      "text/plain": [
       "<Figure size 640x480 with 1 Axes>"
      ]
     },
     "metadata": {},
     "output_type": "display_data"
    }
   ],
   "source": [
    "# \n",
    "plt.hist(df['MonthlyCharges'])\n",
    "plt.title('Histogram of Monthly Charges')\n",
    "plt.show()"
   ]
  },
  {
   "cell_type": "code",
   "execution_count": 25,
   "id": "6318c3df-3e67-40e0-ba9a-f6594580ece8",
   "metadata": {},
   "outputs": [
    {
     "data": {
      "image/png": "[encoded data removed]",
      "text/plain": [
       "<Figure size 640x480 with 1 Axes>"
      ]
     },
     "metadata": {},
     "output_type": "display_data"
    }
   ],
   "source": [
    "plt.hist(df['Tenure'])\n",
    "plt.title('Histrogram of Tenure')\n",
    "plt.show()"
   ]
  },
  {
   "cell_type": "markdown",
   "id": "e2b1fcb6-9c17-4b4c-a2ed-de48dfdfebfc",
   "metadata": {},
   "source": [
    "### Engenharia de Atributos"
   ]
  },
  {
   "cell_type": "code",
   "execution_count": 26,
   "id": "59c65cd1-5d6b-48e4-8cdd-c01c60a316b1",
   "metadata": {},
   "outputs": [
    {
     "data": {
      "text/plain": [
       "Index(['CustomerID', 'Age', 'Gender', 'Tenure', 'MonthlyCharges',\n",
       "       'ContractType', 'InternetService', 'TotalCharges', 'TechSupport',\n",
       "       'Churn'],\n",
       "      dtype='object')"
      ]
     },
     "execution_count": 26,
     "metadata": {},
     "output_type": "execute_result"
    }
   ],
   "source": [
    "# Selecionando colunas que iremos utilizar\n",
    "df.columns"
   ]
  },
  {
   "cell_type": "code",
   "execution_count": 27,
   "id": "83141020-fb54-40c1-abc4-97870a064316",
   "metadata": {},
   "outputs": [],
   "source": [
    "# Separando em categoricas e numéricas\n",
    "# categorics = ['Gender', 'ContractType', 'TechSupport', 'Churn']\n",
    "# numerics = ['Age', 'Tenure', 'MonthlyCharges',]"
   ]
  },
  {
   "cell_type": "code",
   "execution_count": null,
   "id": "76fdf3ba-d49e-48cd-a01f-1b4477872558",
   "metadata": {},
   "outputs": [],
   "source": []
  },
  {
   "cell_type": "code",
   "execution_count": 28,
   "id": "5b4f9b2e-2857-4936-8688-7ff0507beb24",
   "metadata": {},
   "outputs": [],
   "source": [
    "# variável target\n",
    "y = df['Churn']\n",
    "\n",
    "# variáveis preditoras\n",
    "X = df[['Age', 'Gender', 'Tenure', 'MonthlyCharges']]"
   ]
  },
  {
   "cell_type": "code",
   "execution_count": 29,
   "id": "7bc38f9e",
   "metadata": {},
   "outputs": [],
   "source": [
    "X['Gender'] = X['Gender'].apply(lambda x: 1 if x == 'Female' else 0)"
   ]
  },
  {
   "cell_type": "code",
   "execution_count": 30,
   "id": "6f0664ce-8d4b-46e6-b8f4-d45de15172e9",
   "metadata": {},
   "outputs": [
    {
     "data": {
      "text/plain": [
       "0    0\n",
       "1    0\n",
       "2    1\n",
       "3    1\n",
       "4    0\n",
       "Name: Gender, dtype: int64"
      ]
     },
     "execution_count": 30,
     "metadata": {},
     "output_type": "execute_result"
    }
   ],
   "source": [
    "X['Gender'].head()"
   ]
  },
  {
   "cell_type": "code",
   "execution_count": 31,
   "id": "48d16002-b1f3-43e6-bb95-781e7a0418f6",
   "metadata": {},
   "outputs": [],
   "source": [
    "y = y.apply(lambda x: 1 if x == 'Yes' else 0)"
   ]
  },
  {
   "cell_type": "code",
   "execution_count": 32,
   "id": "686393a1-8526-4c43-a896-1be850b87d97",
   "metadata": {},
   "outputs": [
    {
     "data": {
      "text/plain": [
       "0     1\n",
       "1     1\n",
       "2     1\n",
       "3     1\n",
       "4     1\n",
       "5     1\n",
       "6     1\n",
       "7     1\n",
       "8     0\n",
       "9     1\n",
       "10    1\n",
       "11    0\n",
       "12    1\n",
       "13    1\n",
       "14    1\n",
       "15    0\n",
       "16    1\n",
       "17    1\n",
       "18    0\n",
       "19    1\n",
       "Name: Churn, dtype: int64"
      ]
     },
     "execution_count": 32,
     "metadata": {},
     "output_type": "execute_result"
    }
   ],
   "source": [
    "y.head(20)"
   ]
  },
  {
   "cell_type": "code",
   "execution_count": 33,
   "id": "71b2d86d-43e8-48b6-8e10-9bbcd338dc1e",
   "metadata": {},
   "outputs": [],
   "source": [
    "from sklearn.model_selection import train_test_split\n",
    "X_train, X_test, y_train, y_test = train_test_split(X, y, test_size=0.2)"
   ]
  },
  {
   "cell_type": "code",
   "execution_count": 34,
   "id": "b234c5af-019e-4ab1-b342-9e4f2884167f",
   "metadata": {},
   "outputs": [],
   "source": [
    "from sklearn.preprocessing import StandardScaler"
   ]
  },
  {
   "cell_type": "code",
   "execution_count": 35,
   "id": "74137a80-164e-4bc4-a4cd-27d54433331e",
   "metadata": {},
   "outputs": [],
   "source": [
    "scaler = StandardScaler()"
   ]
  },
  {
   "cell_type": "code",
   "execution_count": 36,
   "id": "a171b351-640f-42cc-a71b-9e55760a7bb9",
   "metadata": {},
   "outputs": [],
   "source": [
    "X_train = scaler.fit_transform(X_train)"
   ]
  },
  {
   "cell_type": "code",
   "execution_count": 37,
   "id": "1aca1052-7fe0-4141-ac15-eda2401a873c",
   "metadata": {},
   "outputs": [
    {
     "data": {
      "text/plain": [
       "['scaler.pkl']"
      ]
     },
     "execution_count": 37,
     "metadata": {},
     "output_type": "execute_result"
    }
   ],
   "source": [
    "import joblib\n",
    "joblib.dump(scaler, 'scaler.pkl')"
   ]
  },
  {
   "cell_type": "code",
   "execution_count": 38,
   "id": "0c6fab71-35b8-4137-aaee-677042dc45ca",
   "metadata": {},
   "outputs": [
    {
     "data": {
      "text/plain": [
       "array([[-1.38278324e+00,  8.59726954e-01, -2.61218278e-01,\n",
       "        -1.39603448e+00],\n",
       "       [ 3.00518950e-01,  8.59726954e-01, -7.68438236e-01,\n",
       "         9.39214932e-01],\n",
       "       [ 4.98554501e-01, -1.16316000e+00,  1.89643906e-01,\n",
       "        -8.53721818e-01],\n",
       "       [-1.58081879e+00,  8.59726954e-01, -5.43007143e-01,\n",
       "         1.09732687e+00],\n",
       "       [-1.94569930e-01, -1.16316000e+00, -9.93869328e-01,\n",
       "        -1.36899396e+00],\n",
       "       [ 1.98382114e+00, -1.16316000e+00,  1.33286133e-01,\n",
       "        -4.70272212e-01],\n",
       "       [ 6.96590053e-01,  8.59726954e-01,  7.69283602e-02,\n",
       "         7.15755073e-01],\n",
       "       [ 2.01501174e-01,  8.59726954e-01,  5.27790545e-01,\n",
       "         2.10247560e-01],\n",
       "       [ 2.01501174e-01,  8.59726954e-01, -9.37511555e-01,\n",
       "         1.18933975e+00],\n",
       "       [-1.97688989e+00,  8.59726954e-01, -4.86649370e-01,\n",
       "         1.28060151e+00],\n",
       "       [ 6.96590053e-01, -1.16316000e+00, -4.86649370e-01,\n",
       "        -5.62285095e-01],\n",
       "       [ 1.68676781e+00, -1.16316000e+00, -6.55722690e-01,\n",
       "         1.71775659e+00],\n",
       "       [ 7.95607829e-01, -1.16316000e+00,  7.69283602e-02,\n",
       "         1.13112752e+00],\n",
       "       [ 3.46562215e-03, -1.16316000e+00, -2.04860505e-01,\n",
       "         1.47814753e+00],\n",
       "       [-1.58081879e+00,  8.59726954e-01,  2.05705872e-02,\n",
       "         6.66931910e-01],\n",
       "       [ 3.46562215e-03, -1.16316000e+00, -9.21449590e-02,\n",
       "        -7.64713438e-01],\n",
       "       [-2.93587705e-01, -1.16316000e+00, -3.17576051e-01,\n",
       "         2.47428276e-01],\n",
       "       [ 1.38971448e+00,  8.59726954e-01, -7.68438236e-01,\n",
       "        -5.11441405e-02],\n",
       "       [ 1.09266116e+00,  8.59726954e-01, -3.17576051e-01,\n",
       "         1.01620530e+00],\n",
       "       [-9.86712136e-01, -1.16316000e+00, -9.37511555e-01,\n",
       "         1.57767167e+00],\n",
       "       [-1.38278324e+00, -1.16316000e+00, -7.68438236e-01,\n",
       "        -1.19510839e+00],\n",
       "       [-1.87787212e+00, -1.16316000e+00, -7.12080463e-01,\n",
       "        -3.94032966e-01],\n",
       "       [ 7.95607829e-01,  8.59726954e-01, -9.37511555e-01,\n",
       "        -1.31566405e+00],\n",
       "       [ 2.01501174e-01,  8.59726954e-01, -9.21449590e-02,\n",
       "        -4.63887645e-01],\n",
       "       [-3.92605481e-01,  8.59726954e-01, -8.24796009e-01,\n",
       "         1.19835326e+00],\n",
       "       [ 3.46562215e-03, -1.16316000e+00, -5.99364916e-01,\n",
       "        -7.11759085e-01],\n",
       "       [ 1.78578559e+00,  8.59726954e-01, -4.30291597e-01,\n",
       "         6.64302971e-01],\n",
       "       [-6.89658809e-01,  8.59726954e-01,  9.22294956e-01,\n",
       "         1.02371656e+00],\n",
       "       [ 5.97572277e-01, -1.16316000e+00, -3.57871859e-02,\n",
       "         2.63201913e-01],\n",
       "       [-2.93587705e-01, -1.16316000e+00,  8.09579410e-01,\n",
       "        -1.54423907e-01],\n",
       "       [-1.58081879e+00,  8.59726954e-01, -1.48502732e-01,\n",
       "         9.36585992e-01],\n",
       "       [ 3.99536726e-01,  8.59726954e-01,  1.82401933e+00,\n",
       "        -1.16468781e+00],\n",
       "       [-9.86712136e-01, -1.16316000e+00, -8.24796009e-01,\n",
       "         2.95500313e-01],\n",
       "       [-1.48180102e+00,  8.59726954e-01, -9.37511555e-01,\n",
       "        -1.25505573e-01],\n",
       "       [ 1.09266116e+00, -1.16316000e+00, -2.04860505e-01,\n",
       "         4.16807093e-01],\n",
       "       [ 9.93643381e-01, -1.16316000e+00, -6.55722690e-01,\n",
       "         1.72151222e+00],\n",
       "       [ 9.93643381e-01,  8.59726954e-01, -4.30291597e-01,\n",
       "         8.73115881e-01],\n",
       "       [-9.55521537e-02,  8.59726954e-01, -3.73933824e-01,\n",
       "         1.22276484e+00],\n",
       "       [ 7.95607829e-01,  8.59726954e-01,  4.15074999e-01,\n",
       "        -9.55499334e-01],\n",
       "       [ 9.93643381e-01,  8.59726954e-01, -8.24796009e-01,\n",
       "        -1.47903386e+00],\n",
       "       [ 3.99536726e-01, -1.16316000e+00, -9.37511555e-01,\n",
       "        -1.13238941e+00],\n",
       "       [-6.89658809e-01,  8.59726954e-01,  7.53221637e-01,\n",
       "        -6.17868388e-01],\n",
       "       [ 8.94625605e-01,  8.59726954e-01, -4.30291597e-01,\n",
       "         1.83349753e-02],\n",
       "       [-2.93587705e-01,  8.59726954e-01, -2.04860505e-01,\n",
       "        -1.00131799e+00],\n",
       "       [ 4.98554501e-01,  8.59726954e-01, -8.24796009e-01,\n",
       "        -1.33707113e+00],\n",
       "       [-7.88676585e-01, -1.16316000e+00, -8.81153782e-01,\n",
       "        -1.29838816e+00],\n",
       "       [-1.67983657e+00, -1.16316000e+00, -1.48502732e-01,\n",
       "         1.51795719e+00],\n",
       "       [ 1.48873226e+00, -1.16316000e+00,  3.58717226e-01,\n",
       "        -8.93907037e-01],\n",
       "       [-2.93587705e-01,  8.59726954e-01, -9.37511555e-01,\n",
       "        -8.49447914e-02],\n",
       "       [ 8.94625605e-01, -1.16316000e+00, -8.24796009e-01,\n",
       "        -2.29536465e-01],\n",
       "       [-2.47197877e+00,  8.59726954e-01, -1.48502732e-01,\n",
       "        -5.70104312e-03],\n",
       "       [-1.18474769e+00, -1.16316000e+00, -1.48502732e-01,\n",
       "         1.15816804e+00],\n",
       "       [-1.94569930e-01, -1.16316000e+00, -8.24796009e-01,\n",
       "        -1.21426209e+00],\n",
       "       [-2.93587705e-01,  8.59726954e-01, -9.21449590e-02,\n",
       "         1.75118168e+00],\n",
       "       [ 6.96590053e-01,  8.59726954e-01,  6.96863864e-01,\n",
       "        -8.42079372e-01],\n",
       "       [-9.55521537e-02,  8.59726954e-01,  7.53221637e-01,\n",
       "         6.10221929e-01],\n",
       "       [ 1.09266116e+00,  8.59726954e-01, -1.48502732e-01,\n",
       "         5.18209046e-01],\n",
       "       [-9.55521537e-02,  8.59726954e-01, -7.68438236e-01,\n",
       "         1.75268393e+00],\n",
       "       [ 3.00518950e-01,  8.59726954e-01, -4.30291597e-01,\n",
       "        -1.21238428e+00],\n",
       "       [ 1.58775004e+00,  8.59726954e-01, -6.55722690e-01,\n",
       "        -1.09145306e+00],\n",
       "       [-1.48180102e+00,  8.59726954e-01,  1.33286133e-01,\n",
       "        -4.32573219e-02],\n",
       "       [ 5.97572277e-01,  8.59726954e-01,  1.03501050e+00,\n",
       "         1.52021056e+00],\n",
       "       [ 1.02483398e-01,  8.59726954e-01,  1.82401933e+00,\n",
       "        -8.37197056e-01],\n",
       "       [ 4.98554501e-01, -1.16316000e+00, -3.57871859e-02,\n",
       "         1.75118168e+00],\n",
       "       [-4.91623257e-01,  8.59726954e-01,  1.09136828e+00,\n",
       "        -1.12300034e+00],\n",
       "       [-1.58081879e+00,  8.59726954e-01, -9.93869328e-01,\n",
       "        -6.67442676e-01],\n",
       "       [ 1.29069671e+00,  8.59726954e-01, -9.93869328e-01,\n",
       "         1.23553397e+00],\n",
       "       [-1.58081879e+00, -1.16316000e+00, -9.93869328e-01,\n",
       "        -2.06251572e-01],\n",
       "       [-1.77885434e+00,  8.59726954e-01,  1.33286133e-01,\n",
       "        -4.01168659e-01],\n",
       "       [-1.28376546e+00,  8.59726954e-01, -9.37511555e-01,\n",
       "        -1.33970007e+00],\n",
       "       [ 1.78578559e+00,  8.59726954e-01, -4.86649370e-01,\n",
       "        -8.18794479e-01],\n",
       "       [-1.94569930e-01, -1.16316000e+00, -7.68438236e-01,\n",
       "         4.59621251e-01],\n",
       "       [-5.90641033e-01,  8.59726954e-01,  1.37315714e+00,\n",
       "         1.12662076e+00],\n",
       "       [ 1.02483398e-01,  8.59726954e-01,  7.69283602e-02,\n",
       "         3.30427652e-01],\n",
       "       [-1.28376546e+00, -1.16316000e+00,  1.48587269e+00,\n",
       "        -8.74002209e-01],\n",
       "       [-4.91623257e-01,  8.59726954e-01,  1.65494601e+00,\n",
       "         1.55213340e+00],\n",
       "       [ 3.00518950e-01, -1.16316000e+00,  6.40506091e-01,\n",
       "        -1.58456700e+00],\n",
       "       [-1.28376546e+00, -1.16316000e+00,  3.40203697e+00,\n",
       "         1.06352621e+00],\n",
       "       [-9.55521537e-02, -1.16316000e+00, -5.99364916e-01,\n",
       "         2.96018590e-02],\n",
       "       [-9.55521537e-02, -1.16316000e+00, -4.30291597e-01,\n",
       "        -1.94541524e-03],\n",
       "       [-7.88676585e-01,  8.59726954e-01, -3.73933824e-01,\n",
       "         1.67719581e+00],\n",
       "       [ 1.38971448e+00,  8.59726954e-01, -7.12080463e-01,\n",
       "         1.56542081e-01],\n",
       "       [ 2.01501174e-01, -1.16316000e+00, -3.73933824e-01,\n",
       "         1.38237902e+00],\n",
       "       [-5.90641033e-01, -1.16316000e+00,  2.05705872e-02,\n",
       "         2.61324099e-01],\n",
       "       [-1.38278324e+00, -1.16316000e+00,  9.78652729e-01,\n",
       "         1.74592380e+00],\n",
       "       [-9.86712136e-01, -1.16316000e+00,  5.84148318e-01,\n",
       "         1.09357124e+00],\n",
       "       [ 5.97572277e-01,  8.59726954e-01, -8.81153782e-01,\n",
       "        -1.05389678e+00],\n",
       "       [ 6.96590053e-01,  8.59726954e-01,  1.71130378e+00,\n",
       "         1.33505811e+00],\n",
       "       [-6.89658809e-01, -1.16316000e+00,  7.69283602e-02,\n",
       "        -5.10081867e-01],\n",
       "       [-1.48180102e+00, -1.16316000e+00,  5.27790545e-01,\n",
       "         1.38575909e+00],\n",
       "       [ 1.78578559e+00,  8.59726954e-01, -4.30291597e-01,\n",
       "        -1.55489754e+00],\n",
       "       [ 1.19167893e+00,  8.59726954e-01,  1.26044159e+00,\n",
       "         1.13413202e+00],\n",
       "       [ 5.97572277e-01, -1.16316000e+00,  7.69283602e-02,\n",
       "         1.76822472e-01],\n",
       "       [ 3.46562215e-03,  8.59726954e-01,  6.40506091e-01,\n",
       "        -7.22274843e-01],\n",
       "       [-2.93587705e-01, -1.16316000e+00, -3.17576051e-01,\n",
       "        -1.44936440e+00],\n",
       "       [-2.93587705e-01,  8.59726954e-01,  2.05705872e-02,\n",
       "         6.66556347e-01],\n",
       "       [-1.28376546e+00, -1.16316000e+00, -4.86649370e-01,\n",
       "        -1.88600121e-01],\n",
       "       [ 1.02483398e-01,  8.59726954e-01, -5.43007143e-01,\n",
       "         7.88005842e-02],\n",
       "       [-4.91623257e-01,  8.59726954e-01, -7.68438236e-01,\n",
       "         4.51734433e-01],\n",
       "       [-3.92605481e-01,  8.59726954e-01, -9.93869328e-01,\n",
       "        -1.33181325e+00],\n",
       "       [ 1.29069671e+00, -1.16316000e+00, -5.99364916e-01,\n",
       "         9.27196922e-01],\n",
       "       [-5.90641033e-01,  8.59726954e-01,  3.58717226e-01,\n",
       "        -1.44861327e+00],\n",
       "       [ 7.95607829e-01, -1.16316000e+00,  4.58555020e+00,\n",
       "         1.53260414e+00],\n",
       "       [-5.90641033e-01, -1.16316000e+00, -7.12080463e-01,\n",
       "        -1.61949434e+00],\n",
       "       [ 4.98554501e-01,  8.59726954e-01, -3.73933824e-01,\n",
       "         1.28661051e+00],\n",
       "       [-1.77885434e+00, -1.16316000e+00, -9.93869328e-01,\n",
       "         1.00080723e+00],\n",
       "       [ 2.08283891e+00, -1.16316000e+00, -4.30291597e-01,\n",
       "        -5.97212434e-01],\n",
       "       [-8.87694360e-01, -1.16316000e+00,  9.22294956e-01,\n",
       "        -3.74503701e-01],\n",
       "       [-2.93587705e-01,  8.59726954e-01, -5.43007143e-01,\n",
       "         1.74742605e+00],\n",
       "       [-2.93587705e-01,  8.59726954e-01, -7.12080463e-01,\n",
       "        -1.06929486e+00],\n",
       "       [-3.92605481e-01, -1.16316000e+00,  8.09579410e-01,\n",
       "        -9.05925046e-01],\n",
       "       [ 5.97572277e-01,  8.59726954e-01, -3.17576051e-01,\n",
       "         1.03963291e-01],\n",
       "       [-3.92605481e-01, -1.16316000e+00, -5.43007143e-01,\n",
       "        -9.35970069e-01],\n",
       "       [ 1.38971448e+00, -1.16316000e+00, -4.86649370e-01,\n",
       "         6.92094617e-01],\n",
       "       [-3.92605481e-01,  8.59726954e-01, -6.55722690e-01,\n",
       "        -3.19671534e-01],\n",
       "       [ 8.94625605e-01, -1.16316000e+00,  2.46001679e-01,\n",
       "         1.24304523e+00],\n",
       "       [ 2.01501174e-01,  8.59726954e-01, -3.57871859e-02,\n",
       "        -1.30026597e+00],\n",
       "       [ 7.95607829e-01,  8.59726954e-01,  2.72574369e+00,\n",
       "         1.01395193e+00],\n",
       "       [-2.93587705e-01, -1.16316000e+00,  7.53221637e-01,\n",
       "        -5.83692174e-01],\n",
       "       [-3.92605481e-01, -1.16316000e+00,  2.27488151e+00,\n",
       "         3.69110619e-01],\n",
       "       [-4.91623257e-01,  8.59726954e-01, -9.93869328e-01,\n",
       "        -1.44898884e+00],\n",
       "       [-1.48180102e+00,  8.59726954e-01, -4.86649370e-01,\n",
       "        -1.57104674e+00],\n",
       "       [ 6.96590053e-01,  8.59726954e-01,  1.37315714e+00,\n",
       "        -1.39302998e+00],\n",
       "       [-1.38278324e+00,  8.59726954e-01,  5.84148318e-01,\n",
       "        -5.55149402e-01],\n",
       "       [-1.28376546e+00,  8.59726954e-01, -8.24796009e-01,\n",
       "         2.27523448e-01],\n",
       "       [-9.86712136e-01, -1.16316000e+00, -6.55722690e-01,\n",
       "         1.19572432e+00],\n",
       "       [-5.90641033e-01,  8.59726954e-01, -5.99364916e-01,\n",
       "        -1.50569882e+00],\n",
       "       [ 2.37989224e+00,  8.59726954e-01, -3.17576051e-01,\n",
       "        -1.48316505e+00],\n",
       "       [ 2.01501174e-01,  8.59726954e-01, -8.24796009e-01,\n",
       "         1.78324723e-01],\n",
       "       [-9.55521537e-02, -1.16316000e+00,  8.09579410e-01,\n",
       "        -7.00116638e-01],\n",
       "       [-1.08572991e+00,  8.59726954e-01, -9.37511555e-01,\n",
       "         2.06867495e-01],\n",
       "       [ 1.38971448e+00,  8.59726954e-01, -6.55722690e-01,\n",
       "         1.64571614e-02],\n",
       "       [-5.90641033e-01, -1.16316000e+00,  2.83845924e+00,\n",
       "        -2.79861878e-01],\n",
       "       [-8.87694360e-01, -1.16316000e+00,  2.61302815e+00,\n",
       "         1.70498746e+00],\n",
       "       [ 9.93643381e-01,  8.59726954e-01,  9.78652729e-01,\n",
       "         7.24393017e-01],\n",
       "       [ 2.01501174e-01, -1.16316000e+00, -3.73933824e-01,\n",
       "        -1.32880875e+00],\n",
       "       [-6.89658809e-01,  8.59726954e-01,  2.05705872e-02,\n",
       "        -5.58905030e-01],\n",
       "       [ 3.99536726e-01,  8.59726954e-01, -8.81153782e-01,\n",
       "        -1.61559600e-01],\n",
       "       [-2.67001433e+00,  8.59726954e-01, -5.99364916e-01,\n",
       "        -1.33519331e+00],\n",
       "       [-2.07590767e+00,  8.59726954e-01, -6.55722690e-01,\n",
       "        -5.16841998e-01],\n",
       "       [ 2.01501174e-01, -1.16316000e+00, -4.86649370e-01,\n",
       "        -8.45835000e-01],\n",
       "       [ 2.97399890e+00,  8.59726954e-01, -1.48502732e-01,\n",
       "         6.06841864e-01],\n",
       "       [-6.89658809e-01,  8.59726954e-01, -9.37511555e-01,\n",
       "         3.85259819e-01],\n",
       "       [ 9.93643381e-01, -1.16316000e+00, -5.43007143e-01,\n",
       "         9.23816857e-01],\n",
       "       [-9.86712136e-01,  8.59726954e-01, -3.73933824e-01,\n",
       "         7.16648912e-02],\n",
       "       [ 5.97572277e-01, -1.16316000e+00,  1.33286133e-01,\n",
       "        -1.57592906e+00],\n",
       "       [ 8.94625605e-01, -1.16316000e+00, -4.86649370e-01,\n",
       "        -7.01994452e-01],\n",
       "       [ 7.95607829e-01,  8.59726954e-01, -9.93869328e-01,\n",
       "        -2.56576986e-01],\n",
       "       [ 9.93643381e-01,  8.59726954e-01, -2.61218278e-01,\n",
       "        -7.26781596e-01],\n",
       "       [-1.08572991e+00,  8.59726954e-01, -9.37511555e-01,\n",
       "         6.48904896e-01],\n",
       "       [-5.90641033e-01, -1.16316000e+00,  2.21852374e+00,\n",
       "         1.14802784e+00],\n",
       "       [ 5.97572277e-01,  8.59726954e-01,  1.26044159e+00,\n",
       "         3.25169773e-01],\n",
       "       [-4.91623257e-01,  8.59726954e-01, -7.12080463e-01,\n",
       "        -1.22628010e+00],\n",
       "       [ 2.01501174e-01, -1.16316000e+00,  1.76766155e+00,\n",
       "         2.33156890e-01],\n",
       "       [ 2.01501174e-01,  8.59726954e-01, -7.68438236e-01,\n",
       "         1.41693080e+00],\n",
       "       [ 1.78578559e+00,  8.59726954e-01, -9.21449590e-02,\n",
       "         4.06291335e-01],\n",
       "       [ 7.95607829e-01, -1.16316000e+00,  2.61302815e+00,\n",
       "         7.71713928e-01],\n",
       "       [ 3.00518950e-01,  8.59726954e-01, -2.61218278e-01,\n",
       "        -1.05089228e+00],\n",
       "       [-2.93587705e-01,  8.59726954e-01,  2.38759706e+00,\n",
       "        -2.41178911e-01],\n",
       "       [ 3.99536726e-01,  8.59726954e-01, -4.30291597e-01,\n",
       "        -7.04623392e-01],\n",
       "       [-7.88676585e-01, -1.16316000e+00, -9.37511555e-01,\n",
       "         3.36812220e-01],\n",
       "       [ 5.97572277e-01,  8.59726954e-01,  1.76766155e+00,\n",
       "         1.33092692e+00],\n",
       "       [-9.55521537e-02, -1.16316000e+00, -2.61218278e-01,\n",
       "        -1.54363066e+00],\n",
       "       [ 6.96590053e-01, -1.16316000e+00, -6.55722690e-01,\n",
       "        -3.61359003e-01],\n",
       "       [-6.89658809e-01, -1.16316000e+00, -7.68438236e-01,\n",
       "         1.09469793e+00],\n",
       "       [ 1.29069671e+00, -1.16316000e+00,  2.46001679e-01,\n",
       "        -1.22552898e+00],\n",
       "       [-4.91623257e-01,  8.59726954e-01,  1.82401933e+00,\n",
       "         1.55250896e+00],\n",
       "       [ 3.46562215e-03, -1.16316000e+00,  3.02359452e-01,\n",
       "         1.20286001e+00],\n",
       "       [-4.91623257e-01,  8.59726954e-01,  1.59858823e+00,\n",
       "         7.33406524e-01],\n",
       "       [ 4.98554501e-01,  8.59726954e-01, -6.55722690e-01,\n",
       "         1.23703622e+00],\n",
       "       [-9.55521537e-02,  8.59726954e-01, -3.17576051e-01,\n",
       "         1.21074683e+00],\n",
       "       [ 5.97572277e-01,  8.59726954e-01, -7.12080463e-01,\n",
       "        -3.53472185e-01],\n",
       "       [ 2.01501174e-01, -1.16316000e+00,  5.84148318e-01,\n",
       "        -1.48391618e+00],\n",
       "       [-9.55521537e-02, -1.16316000e+00, -7.68438236e-01,\n",
       "         9.81277964e-01],\n",
       "       [ 2.01501174e-01, -1.16316000e+00, -3.57871859e-02,\n",
       "        -1.51208339e+00],\n",
       "       [ 1.02483398e-01,  8.59726954e-01, -4.86649370e-01,\n",
       "        -4.60883142e-01],\n",
       "       [-3.92605481e-01,  8.59726954e-01, -6.55722690e-01,\n",
       "        -1.24378884e-01],\n",
       "       [ 9.93643381e-01, -1.16316000e+00, -6.55722690e-01,\n",
       "        -9.38223446e-01],\n",
       "       [ 3.46562215e-03,  8.59726954e-01,  2.05705872e-02,\n",
       "         2.43297085e-01],\n",
       "       [ 1.09266116e+00,  8.59726954e-01, -8.81153782e-01,\n",
       "        -1.40993031e+00],\n",
       "       [ 1.48873226e+00, -1.16316000e+00,  5.27790545e-01,\n",
       "        -1.11098233e+00],\n",
       "       [-7.88676585e-01,  8.59726954e-01, -8.24796009e-01,\n",
       "         2.20012192e-01],\n",
       "       [-5.90641033e-01,  8.59726954e-01,  3.58717226e-01,\n",
       "        -9.17943055e-01],\n",
       "       [ 9.93643381e-01, -1.16316000e+00, -7.68438236e-01,\n",
       "         6.49280459e-01],\n",
       "       [-1.58081879e+00, -1.16316000e+00,  3.45839474e+00,\n",
       "         3.84508694e-01],\n",
       "       [ 1.29069671e+00,  8.59726954e-01, -5.43007143e-01,\n",
       "         3.98028954e-01],\n",
       "       [ 2.01501174e-01,  8.59726954e-01, -5.99364916e-01,\n",
       "        -9.12685176e-01],\n",
       "       [-3.92605481e-01, -1.16316000e+00,  6.40506091e-01,\n",
       "         1.11497832e+00],\n",
       "       [ 2.18185669e+00,  8.59726954e-01, -7.68438236e-01,\n",
       "        -8.37572619e-01],\n",
       "       [-2.93587705e-01, -1.16316000e+00, -2.61218278e-01,\n",
       "        -7.71473568e-01],\n",
       "       [ 3.00518950e-01, -1.16316000e+00, -2.04860505e-01,\n",
       "         3.38690033e-01],\n",
       "       [ 8.94625605e-01,  8.59726954e-01,  1.09136828e+00,\n",
       "         1.24454748e+00],\n",
       "       [ 3.00518950e-01,  8.59726954e-01, -8.81153782e-01,\n",
       "        -5.22475439e-01],\n",
       "       [-4.91623257e-01, -1.16316000e+00,  2.46001679e-01,\n",
       "         9.57617508e-01],\n",
       "       [ 6.96590053e-01,  8.59726954e-01,  2.89481701e+00,\n",
       "        -1.56466218e+00],\n",
       "       [-9.55521537e-02, -1.16316000e+00, -5.43007143e-01,\n",
       "        -9.74277473e-01],\n",
       "       [-1.67983657e+00,  8.59726954e-01,  2.46001679e-01,\n",
       "        -1.41706600e+00],\n",
       "       [-8.87694360e-01,  8.59726954e-01,  1.33286133e-01,\n",
       "         3.29676527e-01],\n",
       "       [ 2.01501174e-01, -1.16316000e+00, -5.99364916e-01,\n",
       "         2.35785830e-01],\n",
       "       [ 1.78578559e+00,  8.59726954e-01, -9.93869328e-01,\n",
       "         1.31379375e-01]])"
      ]
     },
     "execution_count": 38,
     "metadata": {},
     "output_type": "execute_result"
    }
   ],
   "source": [
    "X_test = scaler.fit_transform(X_test)\n",
    "X_test"
   ]
  },
  {
   "cell_type": "code",
   "execution_count": 39,
   "id": "c0339096-e231-4ba1-b966-f98e0e9d8c12",
   "metadata": {},
   "outputs": [],
   "source": [
    "from sklearn.metrics import accuracy_score\n",
    "\n",
    "def modelperformance(predictions):\n",
    "    print('Accuracy score on model is {}'.format(accuracy_score(y_test, predictions)))"
   ]
  },
  {
   "cell_type": "code",
   "execution_count": 40,
   "id": "e9c539d9-c694-46a5-98b2-540d12461388",
   "metadata": {},
   "outputs": [],
   "source": [
    "from sklearn.model_selection import GridSearchCV"
   ]
  },
  {
   "cell_type": "code",
   "execution_count": 41,
   "id": "c8e73ac4-c56d-4afa-b85d-a91dc91c61e2",
   "metadata": {},
   "outputs": [],
   "source": [
    "from sklearn.linear_model import LogisticRegression"
   ]
  },
  {
   "cell_type": "code",
   "execution_count": 42,
   "id": "72f99652-05bf-4132-babb-3f882b64599c",
   "metadata": {},
   "outputs": [],
   "source": [
    "log_model = LogisticRegression()"
   ]
  },
  {
   "cell_type": "code",
   "execution_count": 43,
   "id": "b8ad5a54-f3e9-465c-b703-645181296ab5",
   "metadata": {},
   "outputs": [
    {
     "data": {
      "text/html": [
       "<style>#sk-container-id-1 {\n",
       "  /* Definition of color scheme common for light and dark mode */\n",
       "  --sklearn-color-text: #000;\n",
       "  --sklearn-color-text-muted: #666;\n",
       "  --sklearn-color-line: gray;\n",
       "  /* Definition of color scheme for unfitted estimators */\n",
       "  --sklearn-color-unfitted-level-0: #fff5e6;\n",
       "  --sklearn-color-unfitted-level-1: #f6e4d2;\n",
       "  --sklearn-color-unfitted-level-2: #ffe0b3;\n",
       "  --sklearn-color-unfitted-level-3: chocolate;\n",
       "  /* Definition of color scheme for fitted estimators */\n",
       "  --sklearn-color-fitted-level-0: #f0f8ff;\n",
       "  --sklearn-color-fitted-level-1: #d4ebff;\n",
       "  --sklearn-color-fitted-level-2: #b3dbfd;\n",
       "  --sklearn-color-fitted-level-3: cornflowerblue;\n",
       "\n",
       "  /* Specific color for light theme */\n",
       "  --sklearn-color-text-on-default-background: var(--sg-text-color, var(--theme-code-foreground, var(--jp-content-font-color1, black)));\n",
       "  --sklearn-color-background: var(--sg-background-color, var(--theme-background, var(--jp-layout-color0, white)));\n",
       "  --sklearn-color-border-box: var(--sg-text-color, var(--theme-code-foreground, var(--jp-content-font-color1, black)));\n",
       "  --sklearn-color-icon: #696969;\n",
       "\n",
       "  @media (prefers-color-scheme: dark) {\n",
       "    /* Redefinition of color scheme for dark theme */\n",
       "    --sklearn-color-text-on-default-background: var(--sg-text-color, var(--theme-code-foreground, var(--jp-content-font-color1, white)));\n",
       "    --sklearn-color-background: var(--sg-background-color, var(--theme-background, var(--jp-layout-color0, #111)));\n",
       "    --sklearn-color-border-box: var(--sg-text-color, var(--theme-code-foreground, var(--jp-content-font-color1, white)));\n",
       "    --sklearn-color-icon: #878787;\n",
       "  }\n",
       "}\n",
       "\n",
       "#sk-container-id-1 {\n",
       "  color: var(--sklearn-color-text);\n",
       "}\n",
       "\n",
       "#sk-container-id-1 pre {\n",
       "  padding: 0;\n",
       "}\n",
       "\n",
       "#sk-container-id-1 input.sk-hidden--visually {\n",
       "  border: 0;\n",
       "  clip: rect(1px 1px 1px 1px);\n",
       "  clip: rect(1px, 1px, 1px, 1px);\n",
       "  height: 1px;\n",
       "  margin: -1px;\n",
       "  overflow: hidden;\n",
       "  padding: 0;\n",
       "  position: absolute;\n",
       "  width: 1px;\n",
       "}\n",
       "\n",
       "#sk-container-id-1 div.sk-dashed-wrapped {\n",
       "  border: 1px dashed var(--sklearn-color-line);\n",
       "  margin: 0 0.4em 0.5em 0.4em;\n",
       "  box-sizing: border-box;\n",
       "  padding-bottom: 0.4em;\n",
       "  background-color: var(--sklearn-color-background);\n",
       "}\n",
       "\n",
       "#sk-container-id-1 div.sk-container {\n",
       "  /* jupyter's `normalize.less` sets `[hidden] { display: none; }`\n",
       "     but bootstrap.min.css set `[hidden] { display: none !important; }`\n",
       "     so we also need the `!important` here to be able to override the\n",
       "     default hidden behavior on the sphinx rendered scikit-learn.org.\n",
       "     See: https://github.com/scikit-learn/scikit-learn/issues/21755 */\n",
       "  display: inline-block !important;\n",
       "  position: relative;\n",
       "}\n",
       "\n",
       "#sk-container-id-1 div.sk-text-repr-fallback {\n",
       "  display: none;\n",
       "}\n",
       "\n",
       "div.sk-parallel-item,\n",
       "div.sk-serial,\n",
       "div.sk-item {\n",
       "  /* draw centered vertical line to link estimators */\n",
       "  background-image: linear-gradient(var(--sklearn-color-text-on-default-background), var(--sklearn-color-text-on-default-background));\n",
       "  background-size: 2px 100%;\n",
       "  background-repeat: no-repeat;\n",
       "  background-position: center center;\n",
       "}\n",
       "\n",
       "/* Parallel-specific style estimator block */\n",
       "\n",
       "#sk-container-id-1 div.sk-parallel-item::after {\n",
       "  content: \"\";\n",
       "  width: 100%;\n",
       "  border-bottom: 2px solid var(--sklearn-color-text-on-default-background);\n",
       "  flex-grow: 1;\n",
       "}\n",
       "\n",
       "#sk-container-id-1 div.sk-parallel {\n",
       "  display: flex;\n",
       "  align-items: stretch;\n",
       "  justify-content: center;\n",
       "  background-color: var(--sklearn-color-background);\n",
       "  position: relative;\n",
       "}\n",
       "\n",
       "#sk-container-id-1 div.sk-parallel-item {\n",
       "  display: flex;\n",
       "  flex-direction: column;\n",
       "}\n",
       "\n",
       "#sk-container-id-1 div.sk-parallel-item:first-child::after {\n",
       "  align-self: flex-end;\n",
       "  width: 50%;\n",
       "}\n",
       "\n",
       "#sk-container-id-1 div.sk-parallel-item:last-child::after {\n",
       "  align-self: flex-start;\n",
       "  width: 50%;\n",
       "}\n",
       "\n",
       "#sk-container-id-1 div.sk-parallel-item:only-child::after {\n",
       "  width: 0;\n",
       "}\n",
       "\n",
       "/* Serial-specific style estimator block */\n",
       "\n",
       "#sk-container-id-1 div.sk-serial {\n",
       "  display: flex;\n",
       "  flex-direction: column;\n",
       "  align-items: center;\n",
       "  background-color: var(--sklearn-color-background);\n",
       "  padding-right: 1em;\n",
       "  padding-left: 1em;\n",
       "}\n",
       "\n",
       "\n",
       "/* Toggleable style: style used for estimator/Pipeline/ColumnTransformer box that is\n",
       "clickable and can be expanded/collapsed.\n",
       "- Pipeline and ColumnTransformer use this feature and define the default style\n",
       "- Estimators will overwrite some part of the style using the `sk-estimator` class\n",
       "*/\n",
       "\n",
       "/* Pipeline and ColumnTransformer style (default) */\n",
       "\n",
       "#sk-container-id-1 div.sk-toggleable {\n",
       "  /* Default theme specific background. It is overwritten whether we have a\n",
       "  specific estimator or a Pipeline/ColumnTransformer */\n",
       "  background-color: var(--sklearn-color-background);\n",
       "}\n",
       "\n",
       "/* Toggleable label */\n",
       "#sk-container-id-1 label.sk-toggleable__label {\n",
       "  cursor: pointer;\n",
       "  display: flex;\n",
       "  width: 100%;\n",
       "  margin-bottom: 0;\n",
       "  padding: 0.5em;\n",
       "  box-sizing: border-box;\n",
       "  text-align: center;\n",
       "  align-items: start;\n",
       "  justify-content: space-between;\n",
       "  gap: 0.5em;\n",
       "}\n",
       "\n",
       "#sk-container-id-1 label.sk-toggleable__label .caption {\n",
       "  font-size: 0.6rem;\n",
       "  font-weight: lighter;\n",
       "  color: var(--sklearn-color-text-muted);\n",
       "}\n",
       "\n",
       "#sk-container-id-1 label.sk-toggleable__label-arrow:before {\n",
       "  /* Arrow on the left of the label */\n",
       "  content: \"▸\";\n",
       "  float: left;\n",
       "  margin-right: 0.25em;\n",
       "  color: var(--sklearn-color-icon);\n",
       "}\n",
       "\n",
       "#sk-container-id-1 label.sk-toggleable__label-arrow:hover:before {\n",
       "  color: var(--sklearn-color-text);\n",
       "}\n",
       "\n",
       "/* Toggleable content - dropdown */\n",
       "\n",
       "#sk-container-id-1 div.sk-toggleable__content {\n",
       "  max-height: 0;\n",
       "  max-width: 0;\n",
       "  overflow: hidden;\n",
       "  text-align: left;\n",
       "  /* unfitted */\n",
       "  background-color: var(--sklearn-color-unfitted-level-0);\n",
       "}\n",
       "\n",
       "#sk-container-id-1 div.sk-toggleable__content.fitted {\n",
       "  /* fitted */\n",
       "  background-color: var(--sklearn-color-fitted-level-0);\n",
       "}\n",
       "\n",
       "#sk-container-id-1 div.sk-toggleable__content pre {\n",
       "  margin: 0.2em;\n",
       "  border-radius: 0.25em;\n",
       "  color: var(--sklearn-color-text);\n",
       "  /* unfitted */\n",
       "  background-color: var(--sklearn-color-unfitted-level-0);\n",
       "}\n",
       "\n",
       "#sk-container-id-1 div.sk-toggleable__content.fitted pre {\n",
       "  /* unfitted */\n",
       "  background-color: var(--sklearn-color-fitted-level-0);\n",
       "}\n",
       "\n",
       "#sk-container-id-1 input.sk-toggleable__control:checked~div.sk-toggleable__content {\n",
       "  /* Expand drop-down */\n",
       "  max-height: 200px;\n",
       "  max-width: 100%;\n",
       "  overflow: auto;\n",
       "}\n",
       "\n",
       "#sk-container-id-1 input.sk-toggleable__control:checked~label.sk-toggleable__label-arrow:before {\n",
       "  content: \"▾\";\n",
       "}\n",
       "\n",
       "/* Pipeline/ColumnTransformer-specific style */\n",
       "\n",
       "#sk-container-id-1 div.sk-label input.sk-toggleable__control:checked~label.sk-toggleable__label {\n",
       "  color: var(--sklearn-color-text);\n",
       "  background-color: var(--sklearn-color-unfitted-level-2);\n",
       "}\n",
       "\n",
       "#sk-container-id-1 div.sk-label.fitted input.sk-toggleable__control:checked~label.sk-toggleable__label {\n",
       "  background-color: var(--sklearn-color-fitted-level-2);\n",
       "}\n",
       "\n",
       "/* Estimator-specific style */\n",
       "\n",
       "/* Colorize estimator box */\n",
       "#sk-container-id-1 div.sk-estimator input.sk-toggleable__control:checked~label.sk-toggleable__label {\n",
       "  /* unfitted */\n",
       "  background-color: var(--sklearn-color-unfitted-level-2);\n",
       "}\n",
       "\n",
       "#sk-container-id-1 div.sk-estimator.fitted input.sk-toggleable__control:checked~label.sk-toggleable__label {\n",
       "  /* fitted */\n",
       "  background-color: var(--sklearn-color-fitted-level-2);\n",
       "}\n",
       "\n",
       "#sk-container-id-1 div.sk-label label.sk-toggleable__label,\n",
       "#sk-container-id-1 div.sk-label label {\n",
       "  /* The background is the default theme color */\n",
       "  color: var(--sklearn-color-text-on-default-background);\n",
       "}\n",
       "\n",
       "/* On hover, darken the color of the background */\n",
       "#sk-container-id-1 div.sk-label:hover label.sk-toggleable__label {\n",
       "  color: var(--sklearn-color-text);\n",
       "  background-color: var(--sklearn-color-unfitted-level-2);\n",
       "}\n",
       "\n",
       "/* Label box, darken color on hover, fitted */\n",
       "#sk-container-id-1 div.sk-label.fitted:hover label.sk-toggleable__label.fitted {\n",
       "  color: var(--sklearn-color-text);\n",
       "  background-color: var(--sklearn-color-fitted-level-2);\n",
       "}\n",
       "\n",
       "/* Estimator label */\n",
       "\n",
       "#sk-container-id-1 div.sk-label label {\n",
       "  font-family: monospace;\n",
       "  font-weight: bold;\n",
       "  display: inline-block;\n",
       "  line-height: 1.2em;\n",
       "}\n",
       "\n",
       "#sk-container-id-1 div.sk-label-container {\n",
       "  text-align: center;\n",
       "}\n",
       "\n",
       "/* Estimator-specific */\n",
       "#sk-container-id-1 div.sk-estimator {\n",
       "  font-family: monospace;\n",
       "  border: 1px dotted var(--sklearn-color-border-box);\n",
       "  border-radius: 0.25em;\n",
       "  box-sizing: border-box;\n",
       "  margin-bottom: 0.5em;\n",
       "  /* unfitted */\n",
       "  background-color: var(--sklearn-color-unfitted-level-0);\n",
       "}\n",
       "\n",
       "#sk-container-id-1 div.sk-estimator.fitted {\n",
       "  /* fitted */\n",
       "  background-color: var(--sklearn-color-fitted-level-0);\n",
       "}\n",
       "\n",
       "/* on hover */\n",
       "#sk-container-id-1 div.sk-estimator:hover {\n",
       "  /* unfitted */\n",
       "  background-color: var(--sklearn-color-unfitted-level-2);\n",
       "}\n",
       "\n",
       "#sk-container-id-1 div.sk-estimator.fitted:hover {\n",
       "  /* fitted */\n",
       "  background-color: var(--sklearn-color-fitted-level-2);\n",
       "}\n",
       "\n",
       "/* Specification for estimator info (e.g. \"i\" and \"?\") */\n",
       "\n",
       "/* Common style for \"i\" and \"?\" */\n",
       "\n",
       ".sk-estimator-doc-link,\n",
       "a:link.sk-estimator-doc-link,\n",
       "a:visited.sk-estimator-doc-link {\n",
       "  float: right;\n",
       "  font-size: smaller;\n",
       "  line-height: 1em;\n",
       "  font-family: monospace;\n",
       "  background-color: var(--sklearn-color-background);\n",
       "  border-radius: 1em;\n",
       "  height: 1em;\n",
       "  width: 1em;\n",
       "  text-decoration: none !important;\n",
       "  margin-left: 0.5em;\n",
       "  text-align: center;\n",
       "  /* unfitted */\n",
       "  border: var(--sklearn-color-unfitted-level-1) 1pt solid;\n",
       "  color: var(--sklearn-color-unfitted-level-1);\n",
       "}\n",
       "\n",
       ".sk-estimator-doc-link.fitted,\n",
       "a:link.sk-estimator-doc-link.fitted,\n",
       "a:visited.sk-estimator-doc-link.fitted {\n",
       "  /* fitted */\n",
       "  border: var(--sklearn-color-fitted-level-1) 1pt solid;\n",
       "  color: var(--sklearn-color-fitted-level-1);\n",
       "}\n",
       "\n",
       "/* On hover */\n",
       "div.sk-estimator:hover .sk-estimator-doc-link:hover,\n",
       ".sk-estimator-doc-link:hover,\n",
       "div.sk-label-container:hover .sk-estimator-doc-link:hover,\n",
       ".sk-estimator-doc-link:hover {\n",
       "  /* unfitted */\n",
       "  background-color: var(--sklearn-color-unfitted-level-3);\n",
       "  color: var(--sklearn-color-background);\n",
       "  text-decoration: none;\n",
       "}\n",
       "\n",
       "div.sk-estimator.fitted:hover .sk-estimator-doc-link.fitted:hover,\n",
       ".sk-estimator-doc-link.fitted:hover,\n",
       "div.sk-label-container:hover .sk-estimator-doc-link.fitted:hover,\n",
       ".sk-estimator-doc-link.fitted:hover {\n",
       "  /* fitted */\n",
       "  background-color: var(--sklearn-color-fitted-level-3);\n",
       "  color: var(--sklearn-color-background);\n",
       "  text-decoration: none;\n",
       "}\n",
       "\n",
       "/* Span, style for the box shown on hovering the info icon */\n",
       ".sk-estimator-doc-link span {\n",
       "  display: none;\n",
       "  z-index: 9999;\n",
       "  position: relative;\n",
       "  font-weight: normal;\n",
       "  right: .2ex;\n",
       "  padding: .5ex;\n",
       "  margin: .5ex;\n",
       "  width: min-content;\n",
       "  min-width: 20ex;\n",
       "  max-width: 50ex;\n",
       "  color: var(--sklearn-color-text);\n",
       "  box-shadow: 2pt 2pt 4pt #999;\n",
       "  /* unfitted */\n",
       "  background: var(--sklearn-color-unfitted-level-0);\n",
       "  border: .5pt solid var(--sklearn-color-unfitted-level-3);\n",
       "}\n",
       "\n",
       ".sk-estimator-doc-link.fitted span {\n",
       "  /* fitted */\n",
       "  background: var(--sklearn-color-fitted-level-0);\n",
       "  border: var(--sklearn-color-fitted-level-3);\n",
       "}\n",
       "\n",
       ".sk-estimator-doc-link:hover span {\n",
       "  display: block;\n",
       "}\n",
       "\n",
       "/* \"?\"-specific style due to the `<a>` HTML tag */\n",
       "\n",
       "#sk-container-id-1 a.estimator_doc_link {\n",
       "  float: right;\n",
       "  font-size: 1rem;\n",
       "  line-height: 1em;\n",
       "  font-family: monospace;\n",
       "  background-color: var(--sklearn-color-background);\n",
       "  border-radius: 1rem;\n",
       "  height: 1rem;\n",
       "  width: 1rem;\n",
       "  text-decoration: none;\n",
       "  /* unfitted */\n",
       "  color: var(--sklearn-color-unfitted-level-1);\n",
       "  border: var(--sklearn-color-unfitted-level-1) 1pt solid;\n",
       "}\n",
       "\n",
       "#sk-container-id-1 a.estimator_doc_link.fitted {\n",
       "  /* fitted */\n",
       "  border: var(--sklearn-color-fitted-level-1) 1pt solid;\n",
       "  color: var(--sklearn-color-fitted-level-1);\n",
       "}\n",
       "\n",
       "/* On hover */\n",
       "#sk-container-id-1 a.estimator_doc_link:hover {\n",
       "  /* unfitted */\n",
       "  background-color: var(--sklearn-color-unfitted-level-3);\n",
       "  color: var(--sklearn-color-background);\n",
       "  text-decoration: none;\n",
       "}\n",
       "\n",
       "#sk-container-id-1 a.estimator_doc_link.fitted:hover {\n",
       "  /* fitted */\n",
       "  background-color: var(--sklearn-color-fitted-level-3);\n",
       "}\n",
       "</style><div id=\"sk-container-id-1\" class=\"sk-top-container\"><div class=\"sk-text-repr-fallback\"><pre>LogisticRegression()</pre><b>In a Jupyter environment, please rerun this cell to show the HTML representation or trust the notebook. <br />On GitHub, the HTML representation is unable to render, please try loading this page with nbviewer.org.</b></div><div class=\"sk-container\" hidden><div class=\"sk-item\"><div class=\"sk-estimator fitted sk-toggleable\"><input class=\"sk-toggleable__control sk-hidden--visually\" id=\"sk-estimator-id-1\" type=\"checkbox\" checked><label for=\"sk-estimator-id-1\" class=\"sk-toggleable__label fitted sk-toggleable__label-arrow\"><div><div>LogisticRegression</div></div><div><a class=\"sk-estimator-doc-link fitted\" rel=\"noreferrer\" target=\"_blank\" href=\"https://scikit-learn.org/1.6/modules/generated/sklearn.linear_model.LogisticRegression.html\">?<span>Documentation for LogisticRegression</span></a><span class=\"sk-estimator-doc-link fitted\">i<span>Fitted</span></span></div></label><div class=\"sk-toggleable__content fitted\"><pre>LogisticRegression()</pre></div> </div></div></div></div>"
      ],
      "text/plain": [
       "LogisticRegression()"
      ]
     },
     "execution_count": 43,
     "metadata": {},
     "output_type": "execute_result"
    }
   ],
   "source": [
    "log_model.fit(X_train, y_train)"
   ]
  },
  {
   "cell_type": "code",
   "execution_count": 45,
   "id": "b7f90037-e50b-4f16-8cf2-18ab9e5c58e8",
   "metadata": {},
   "outputs": [],
   "source": [
    "y_pred = log_model.predict(X_test)"
   ]
  },
  {
   "cell_type": "code",
   "execution_count": 46,
   "id": "04951eed-1206-4b19-8308-c3fbebd1c451",
   "metadata": {},
   "outputs": [
    {
     "name": "stdout",
     "output_type": "stream",
     "text": [
      "Accuracy score on model is 0.885\n"
     ]
    }
   ],
   "source": [
    "modelperformance(y_pred)"
   ]
  },
  {
   "cell_type": "code",
   "execution_count": null,
   "id": "34cfca02-119e-42dc-a7b9-f67a5867f506",
   "metadata": {},
   "outputs": [],
   "source": []
  },
  {
   "cell_type": "code",
   "execution_count": null,
   "id": "5e8961c1-db97-4b9e-8188-0111a5dff53c",
   "metadata": {},
   "outputs": [],
   "source": []
  },
  {
   "cell_type": "code",
   "execution_count": null,
   "id": "527b3a73-4b7e-4191-8f20-32fa5284ab21",
   "metadata": {},
   "outputs": [],
   "source": []
  },
  {
   "cell_type": "code",
   "execution_count": null,
   "id": "a5383392-aeea-4976-a653-aefb859df81d",
   "metadata": {},
   "outputs": [],
   "source": []
  },
  {
   "cell_type": "code",
   "execution_count": null,
   "id": "4783fefb-a12f-4986-9b90-0ae0566138b8",
   "metadata": {},
   "outputs": [],
   "source": []
  },
  {
   "cell_type": "code",
   "execution_count": null,
   "id": "b8600c9b-6553-4e16-98d7-aaf4931046a9",
   "metadata": {},
   "outputs": [],
   "source": []
  },
  {
   "cell_type": "code",
   "execution_count": null,
   "id": "5c28ea1e-2e06-49cb-8d52-e760eb263f4d",
   "metadata": {},
   "outputs": [],
   "source": []
  },
  {
   "cell_type": "code",
   "execution_count": null,
   "id": "02b83770-feb6-4011-8bd1-82a92c6661f0",
   "metadata": {},
   "outputs": [],
   "source": []
  },
  {
   "cell_type": "code",
   "execution_count": null,
   "id": "04949bb1-cb09-40c2-b84e-b4784967b646",
   "metadata": {},
   "outputs": [],
   "source": []
  },
  {
   "cell_type": "code",
   "execution_count": null,
   "id": "204ed908-7911-4938-8aa6-8eb850ea4b7a",
   "metadata": {},
   "outputs": [],
   "source": []
  },
  {
   "cell_type": "code",
   "execution_count": null,
   "id": "c7678f1f-1d49-4ccb-9303-0bda92efb702",
   "metadata": {},
   "outputs": [],
   "source": []
  },
  {
   "cell_type": "code",
   "execution_count": null,
   "id": "e26e86e4-92a4-4e29-9740-fb7d5fc5b2c0",
   "metadata": {},
   "outputs": [],
   "source": []
  }
 ],
 "metadata": {
  "kernelspec": {
   "display_name": "Python 3 (ipykernel)",
   "language": "python",
   "name": "python3"
  },
  "language_info": {
   "codemirror_mode": {
    "name": "ipython",
    "version": 3
   },
   "file_extension": ".py",
   "mimetype": "text/x-python",
   "name": "python",
   "nbconvert_exporter": "python",
   "pygments_lexer": "ipython3",
   "version": "3.12.7"
  }
 },
 "nbformat": 4,
 "nbformat_minor": 5
}
