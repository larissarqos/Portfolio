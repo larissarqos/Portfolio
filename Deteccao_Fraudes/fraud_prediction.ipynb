{
 "cells": [
  {
   "cell_type": "markdown",
   "id": "f51996ac-62e9-4ee5-86d3-a57f7ae84915",
   "metadata": {},
   "source": [
    "## Detecção de Fraudes em Transações Financeiras"
   ]
  },
  {
   "cell_type": "markdown",
   "id": "dbe2c59c-04a5-491f-a21a-c2e5589b6482",
   "metadata": {},
   "source": [
    "### Importando Bibliotecas"
   ]
  },
  {
   "cell_type": "code",
   "execution_count": 1,
   "id": "f66864bf-c94f-473d-9117-c6cb903f3aae",
   "metadata": {},
   "outputs": [],
   "source": [
    "import pandas as pd\n",
    "import numpy as np\n",
    "import matplotlib.pyplot as plt\n",
    "import seaborn as sns\n",
    "import warnings\n",
    "warnings.filterwarnings('ignore')\n",
    "\n",
    "from sklearn.model_selection import train_test_split\n",
    "from sklearn.preprocessing import StandardScaler\n",
    "from sklearn.linear_model import LogisticRegression\n",
    "from sklearn.metrics import classification_report, confusion_matrix\n",
    "from sklearn.pipeline import Pipeline\n",
    "from sklearn.compose import ColumnTransformer\n",
    "from sklearn.preprocessing import OneHotEncoder"
   ]
  },
  {
   "cell_type": "markdown",
   "id": "3b2432cb-144d-4a70-9e8c-9aa74e40ddb5",
   "metadata": {},
   "source": [
    "### Importação e Análise Exploratória dos Dados"
   ]
  },
  {
   "cell_type": "code",
   "execution_count": 2,
   "id": "f42cdd32-66cd-42d4-88e5-e5724d780921",
   "metadata": {},
   "outputs": [
    {
     "ename": "FileNotFoundError",
     "evalue": "[Errno 2] No such file or directory: 'dataset.csv'",
     "output_type": "error",
     "traceback": [
      "\u001b[1;31m---------------------------------------------------------------------------\u001b[0m",
      "\u001b[1;31mFileNotFoundError\u001b[0m                         Traceback (most recent call last)",
      "Cell \u001b[1;32mIn[2], line 2\u001b[0m\n\u001b[0;32m      1\u001b[0m \u001b[38;5;66;03m# Importando dados\u001b[39;00m\n\u001b[1;32m----> 2\u001b[0m df \u001b[38;5;241m=\u001b[39m pd\u001b[38;5;241m.\u001b[39mread_csv(\u001b[38;5;124m'\u001b[39m\u001b[38;5;124mdataset.csv\u001b[39m\u001b[38;5;124m'\u001b[39m)\n",
      "File \u001b[1;32m~\\anaconda3\\Lib\\site-packages\\pandas\\io\\parsers\\readers.py:1026\u001b[0m, in \u001b[0;36mread_csv\u001b[1;34m(filepath_or_buffer, sep, delimiter, header, names, index_col, usecols, dtype, engine, converters, true_values, false_values, skipinitialspace, skiprows, skipfooter, nrows, na_values, keep_default_na, na_filter, verbose, skip_blank_lines, parse_dates, infer_datetime_format, keep_date_col, date_parser, date_format, dayfirst, cache_dates, iterator, chunksize, compression, thousands, decimal, lineterminator, quotechar, quoting, doublequote, escapechar, comment, encoding, encoding_errors, dialect, on_bad_lines, delim_whitespace, low_memory, memory_map, float_precision, storage_options, dtype_backend)\u001b[0m\n\u001b[0;32m   1013\u001b[0m kwds_defaults \u001b[38;5;241m=\u001b[39m _refine_defaults_read(\n\u001b[0;32m   1014\u001b[0m     dialect,\n\u001b[0;32m   1015\u001b[0m     delimiter,\n\u001b[1;32m   (...)\u001b[0m\n\u001b[0;32m   1022\u001b[0m     dtype_backend\u001b[38;5;241m=\u001b[39mdtype_backend,\n\u001b[0;32m   1023\u001b[0m )\n\u001b[0;32m   1024\u001b[0m kwds\u001b[38;5;241m.\u001b[39mupdate(kwds_defaults)\n\u001b[1;32m-> 1026\u001b[0m \u001b[38;5;28;01mreturn\u001b[39;00m _read(filepath_or_buffer, kwds)\n",
      "File \u001b[1;32m~\\anaconda3\\Lib\\site-packages\\pandas\\io\\parsers\\readers.py:620\u001b[0m, in \u001b[0;36m_read\u001b[1;34m(filepath_or_buffer, kwds)\u001b[0m\n\u001b[0;32m    617\u001b[0m _validate_names(kwds\u001b[38;5;241m.\u001b[39mget(\u001b[38;5;124m\"\u001b[39m\u001b[38;5;124mnames\u001b[39m\u001b[38;5;124m\"\u001b[39m, \u001b[38;5;28;01mNone\u001b[39;00m))\n\u001b[0;32m    619\u001b[0m \u001b[38;5;66;03m# Create the parser.\u001b[39;00m\n\u001b[1;32m--> 620\u001b[0m parser \u001b[38;5;241m=\u001b[39m TextFileReader(filepath_or_buffer, \u001b[38;5;241m*\u001b[39m\u001b[38;5;241m*\u001b[39mkwds)\n\u001b[0;32m    622\u001b[0m \u001b[38;5;28;01mif\u001b[39;00m chunksize \u001b[38;5;129;01mor\u001b[39;00m iterator:\n\u001b[0;32m    623\u001b[0m     \u001b[38;5;28;01mreturn\u001b[39;00m parser\n",
      "File \u001b[1;32m~\\anaconda3\\Lib\\site-packages\\pandas\\io\\parsers\\readers.py:1620\u001b[0m, in \u001b[0;36mTextFileReader.__init__\u001b[1;34m(self, f, engine, **kwds)\u001b[0m\n\u001b[0;32m   1617\u001b[0m     \u001b[38;5;28mself\u001b[39m\u001b[38;5;241m.\u001b[39moptions[\u001b[38;5;124m\"\u001b[39m\u001b[38;5;124mhas_index_names\u001b[39m\u001b[38;5;124m\"\u001b[39m] \u001b[38;5;241m=\u001b[39m kwds[\u001b[38;5;124m\"\u001b[39m\u001b[38;5;124mhas_index_names\u001b[39m\u001b[38;5;124m\"\u001b[39m]\n\u001b[0;32m   1619\u001b[0m \u001b[38;5;28mself\u001b[39m\u001b[38;5;241m.\u001b[39mhandles: IOHandles \u001b[38;5;241m|\u001b[39m \u001b[38;5;28;01mNone\u001b[39;00m \u001b[38;5;241m=\u001b[39m \u001b[38;5;28;01mNone\u001b[39;00m\n\u001b[1;32m-> 1620\u001b[0m \u001b[38;5;28mself\u001b[39m\u001b[38;5;241m.\u001b[39m_engine \u001b[38;5;241m=\u001b[39m \u001b[38;5;28mself\u001b[39m\u001b[38;5;241m.\u001b[39m_make_engine(f, \u001b[38;5;28mself\u001b[39m\u001b[38;5;241m.\u001b[39mengine)\n",
      "File \u001b[1;32m~\\anaconda3\\Lib\\site-packages\\pandas\\io\\parsers\\readers.py:1880\u001b[0m, in \u001b[0;36mTextFileReader._make_engine\u001b[1;34m(self, f, engine)\u001b[0m\n\u001b[0;32m   1878\u001b[0m     \u001b[38;5;28;01mif\u001b[39;00m \u001b[38;5;124m\"\u001b[39m\u001b[38;5;124mb\u001b[39m\u001b[38;5;124m\"\u001b[39m \u001b[38;5;129;01mnot\u001b[39;00m \u001b[38;5;129;01min\u001b[39;00m mode:\n\u001b[0;32m   1879\u001b[0m         mode \u001b[38;5;241m+\u001b[39m\u001b[38;5;241m=\u001b[39m \u001b[38;5;124m\"\u001b[39m\u001b[38;5;124mb\u001b[39m\u001b[38;5;124m\"\u001b[39m\n\u001b[1;32m-> 1880\u001b[0m \u001b[38;5;28mself\u001b[39m\u001b[38;5;241m.\u001b[39mhandles \u001b[38;5;241m=\u001b[39m get_handle(\n\u001b[0;32m   1881\u001b[0m     f,\n\u001b[0;32m   1882\u001b[0m     mode,\n\u001b[0;32m   1883\u001b[0m     encoding\u001b[38;5;241m=\u001b[39m\u001b[38;5;28mself\u001b[39m\u001b[38;5;241m.\u001b[39moptions\u001b[38;5;241m.\u001b[39mget(\u001b[38;5;124m\"\u001b[39m\u001b[38;5;124mencoding\u001b[39m\u001b[38;5;124m\"\u001b[39m, \u001b[38;5;28;01mNone\u001b[39;00m),\n\u001b[0;32m   1884\u001b[0m     compression\u001b[38;5;241m=\u001b[39m\u001b[38;5;28mself\u001b[39m\u001b[38;5;241m.\u001b[39moptions\u001b[38;5;241m.\u001b[39mget(\u001b[38;5;124m\"\u001b[39m\u001b[38;5;124mcompression\u001b[39m\u001b[38;5;124m\"\u001b[39m, \u001b[38;5;28;01mNone\u001b[39;00m),\n\u001b[0;32m   1885\u001b[0m     memory_map\u001b[38;5;241m=\u001b[39m\u001b[38;5;28mself\u001b[39m\u001b[38;5;241m.\u001b[39moptions\u001b[38;5;241m.\u001b[39mget(\u001b[38;5;124m\"\u001b[39m\u001b[38;5;124mmemory_map\u001b[39m\u001b[38;5;124m\"\u001b[39m, \u001b[38;5;28;01mFalse\u001b[39;00m),\n\u001b[0;32m   1886\u001b[0m     is_text\u001b[38;5;241m=\u001b[39mis_text,\n\u001b[0;32m   1887\u001b[0m     errors\u001b[38;5;241m=\u001b[39m\u001b[38;5;28mself\u001b[39m\u001b[38;5;241m.\u001b[39moptions\u001b[38;5;241m.\u001b[39mget(\u001b[38;5;124m\"\u001b[39m\u001b[38;5;124mencoding_errors\u001b[39m\u001b[38;5;124m\"\u001b[39m, \u001b[38;5;124m\"\u001b[39m\u001b[38;5;124mstrict\u001b[39m\u001b[38;5;124m\"\u001b[39m),\n\u001b[0;32m   1888\u001b[0m     storage_options\u001b[38;5;241m=\u001b[39m\u001b[38;5;28mself\u001b[39m\u001b[38;5;241m.\u001b[39moptions\u001b[38;5;241m.\u001b[39mget(\u001b[38;5;124m\"\u001b[39m\u001b[38;5;124mstorage_options\u001b[39m\u001b[38;5;124m\"\u001b[39m, \u001b[38;5;28;01mNone\u001b[39;00m),\n\u001b[0;32m   1889\u001b[0m )\n\u001b[0;32m   1890\u001b[0m \u001b[38;5;28;01massert\u001b[39;00m \u001b[38;5;28mself\u001b[39m\u001b[38;5;241m.\u001b[39mhandles \u001b[38;5;129;01mis\u001b[39;00m \u001b[38;5;129;01mnot\u001b[39;00m \u001b[38;5;28;01mNone\u001b[39;00m\n\u001b[0;32m   1891\u001b[0m f \u001b[38;5;241m=\u001b[39m \u001b[38;5;28mself\u001b[39m\u001b[38;5;241m.\u001b[39mhandles\u001b[38;5;241m.\u001b[39mhandle\n",
      "File \u001b[1;32m~\\anaconda3\\Lib\\site-packages\\pandas\\io\\common.py:873\u001b[0m, in \u001b[0;36mget_handle\u001b[1;34m(path_or_buf, mode, encoding, compression, memory_map, is_text, errors, storage_options)\u001b[0m\n\u001b[0;32m    868\u001b[0m \u001b[38;5;28;01melif\u001b[39;00m \u001b[38;5;28misinstance\u001b[39m(handle, \u001b[38;5;28mstr\u001b[39m):\n\u001b[0;32m    869\u001b[0m     \u001b[38;5;66;03m# Check whether the filename is to be opened in binary mode.\u001b[39;00m\n\u001b[0;32m    870\u001b[0m     \u001b[38;5;66;03m# Binary mode does not support 'encoding' and 'newline'.\u001b[39;00m\n\u001b[0;32m    871\u001b[0m     \u001b[38;5;28;01mif\u001b[39;00m ioargs\u001b[38;5;241m.\u001b[39mencoding \u001b[38;5;129;01mand\u001b[39;00m \u001b[38;5;124m\"\u001b[39m\u001b[38;5;124mb\u001b[39m\u001b[38;5;124m\"\u001b[39m \u001b[38;5;129;01mnot\u001b[39;00m \u001b[38;5;129;01min\u001b[39;00m ioargs\u001b[38;5;241m.\u001b[39mmode:\n\u001b[0;32m    872\u001b[0m         \u001b[38;5;66;03m# Encoding\u001b[39;00m\n\u001b[1;32m--> 873\u001b[0m         handle \u001b[38;5;241m=\u001b[39m \u001b[38;5;28mopen\u001b[39m(\n\u001b[0;32m    874\u001b[0m             handle,\n\u001b[0;32m    875\u001b[0m             ioargs\u001b[38;5;241m.\u001b[39mmode,\n\u001b[0;32m    876\u001b[0m             encoding\u001b[38;5;241m=\u001b[39mioargs\u001b[38;5;241m.\u001b[39mencoding,\n\u001b[0;32m    877\u001b[0m             errors\u001b[38;5;241m=\u001b[39merrors,\n\u001b[0;32m    878\u001b[0m             newline\u001b[38;5;241m=\u001b[39m\u001b[38;5;124m\"\u001b[39m\u001b[38;5;124m\"\u001b[39m,\n\u001b[0;32m    879\u001b[0m         )\n\u001b[0;32m    880\u001b[0m     \u001b[38;5;28;01melse\u001b[39;00m:\n\u001b[0;32m    881\u001b[0m         \u001b[38;5;66;03m# Binary mode\u001b[39;00m\n\u001b[0;32m    882\u001b[0m         handle \u001b[38;5;241m=\u001b[39m \u001b[38;5;28mopen\u001b[39m(handle, ioargs\u001b[38;5;241m.\u001b[39mmode)\n",
      "\u001b[1;31mFileNotFoundError\u001b[0m: [Errno 2] No such file or directory: 'dataset.csv'"
     ]
    }
   ],
   "source": [
    "# Importando dados\n",
    "df = pd.read_csv('dataset.csv')"
   ]
  },
  {
   "cell_type": "code",
   "execution_count": null,
   "id": "ab60fea5-49b7-48be-a0ed-31e2a8991a1a",
   "metadata": {},
   "outputs": [],
   "source": [
    "# Visualização geral\n",
    "df.head()"
   ]
  },
  {
   "cell_type": "code",
   "execution_count": null,
   "id": "e4a2ae69-62d6-47c4-9d3e-bed0f2f00988",
   "metadata": {},
   "outputs": [],
   "source": [
    "# Tamanho do dataset\n",
    "df.shape"
   ]
  },
  {
   "cell_type": "code",
   "execution_count": null,
   "id": "bd14bd5c-9c5a-4bf5-9df1-b5f6f7eca8c9",
   "metadata": {},
   "outputs": [],
   "source": [
    "# Verificando tipo dos dados\n",
    "df.info()"
   ]
  },
  {
   "cell_type": "code",
   "execution_count": null,
   "id": "00f18188-4c38-4d57-8743-03cdba91c97d",
   "metadata": {},
   "outputs": [],
   "source": [
    "# Verificando colunas\n",
    "df.columns"
   ]
  },
  {
   "cell_type": "code",
   "execution_count": null,
   "id": "b4b8e753-6ec8-437b-b901-bd70da36d0b8",
   "metadata": {},
   "outputs": [],
   "source": [
    "# Verificando valores nulos\n",
    "# Não há valores nulos\n",
    "df.isna().sum()"
   ]
  },
  {
   "cell_type": "code",
   "execution_count": null,
   "id": "70361911-0981-4b58-adb1-3814fe487ba6",
   "metadata": {},
   "outputs": [],
   "source": [
    "# Verificando valores duplicados\n",
    "# Não há valores duplicados\n",
    "df.duplicated().sum()"
   ]
  },
  {
   "cell_type": "code",
   "execution_count": null,
   "id": "1e90441b-caa4-407b-9fde-d032064acb94",
   "metadata": {},
   "outputs": [],
   "source": [
    "# Distribuição de valores da variável isFraud\n",
    "df['isFraud'].value_counts()"
   ]
  },
  {
   "cell_type": "code",
   "execution_count": null,
   "id": "34ba158b-4aa1-4d99-8fd1-087b99974245",
   "metadata": {},
   "outputs": [],
   "source": [
    "# Distribuição de valores da variável isFlaggedFraud\n",
    "df['isFlaggedFraud'].value_counts()"
   ]
  },
  {
   "cell_type": "code",
   "execution_count": null,
   "id": "6b33e038-235c-425b-9d0d-06b180684d0f",
   "metadata": {},
   "outputs": [],
   "source": [
    "# Porcentagem de fraudes\n",
    "f'{round((df['isFraud'].value_counts()[1] / df.shape[0]) * 100,2)}%'"
   ]
  },
  {
   "cell_type": "code",
   "execution_count": null,
   "id": "15c0c02b-ff1c-41c6-a5d1-e328df9fad75",
   "metadata": {},
   "outputs": [],
   "source": [
    "# Gráfico - tipos de transações\n",
    "df['type'].value_counts().sort_values().plot(kind='barh', title='Tipos de Transação')\n",
    "plt.xlabel('Count')\n",
    "plt.ylabel('ipo de Transação')\n",
    "plt.show()"
   ]
  },
  {
   "cell_type": "code",
   "execution_count": null,
   "id": "290ff6de-eb80-417d-96eb-d1b97b242992",
   "metadata": {},
   "outputs": [],
   "source": [
    "# Gráfico - Total de fraudes por tipo de transações\n",
    "# A maior parte das fraudes ocorre na transferência ou saque de valores\n",
    "fraud_by_type = df.groupby('type')['isFraud'].mean().sort_values()\n",
    "fraud_by_type.plot(kind='barh', title='Fraud Rate by Type')\n",
    "plt.xlabel('Fraud Rate')\n",
    "plt.show()"
   ]
  },
  {
   "cell_type": "code",
   "execution_count": null,
   "id": "2b6815e3-9d6d-4f96-8009-8cce849bd5bd",
   "metadata": {},
   "outputs": [],
   "source": [
    "# Total de fraudes por tipo de transações\n",
    "fraud_by_type"
   ]
  },
  {
   "cell_type": "code",
   "execution_count": null,
   "id": "1ab83bf0-0f4a-439c-aa43-8f375791afee",
   "metadata": {},
   "outputs": [],
   "source": [
    "# Distribuição dos valores das transações\n",
    "df['amount'].describe().astype(int)"
   ]
  },
  {
   "cell_type": "code",
   "execution_count": null,
   "id": "5b7c2027-85a7-4845-8908-2bde47f01476",
   "metadata": {},
   "outputs": [],
   "source": [
    "# Dada a assimetria da distribuição dos valores, foi aplicada escala logarítmica para visualização gráfica\n",
    "sns.histplot(np.log1p(df['amount']), bins=100, kde=True)\n",
    "plt.title('Transaction Amount Distribution (log scale)')\n",
    "plt.xlabel('Log(Amount + 1)')\n",
    "plt.show()"
   ]
  },
  {
   "cell_type": "code",
   "execution_count": null,
   "id": "25f9d63a-617d-4076-b5cf-cdafabfc529d",
   "metadata": {},
   "outputs": [],
   "source": [
    "# Avaliando a distribuição de valores em transações legítimas e fraudulentas com valores < 50 mil\n",
    "# -  De acordo com o boxplot: transações fraudulentas envolvem valores mais altos e têm maior dispersão\n",
    "sns.boxplot(data=df[df['amount'] < 50000], x='isFraud', y='amount')\n",
    "plt.title('Amount X Is Fraud (values under 50k)')\n",
    "plt.show()"
   ]
  },
  {
   "cell_type": "markdown",
   "id": "40d7a059-a4c9-49da-a67d-a467c4a21fcd",
   "metadata": {},
   "source": [
    "### Analisando anomalias em envio e recebimento de saldo"
   ]
  },
  {
   "cell_type": "code",
   "execution_count": null,
   "id": "b0fcd1d8-67ab-4dd2-847b-08222d07c1e7",
   "metadata": {},
   "outputs": [],
   "source": [
    "# Diferença de saldo da conta remetente após envio de valor\n",
    "df['balanceDiffOrig'] = df['oldbalanceOrg'] - df['newbalanceOrig']\n",
    "\n",
    "# Diferença de saldo da conta destinatária após recebimento de valor\n",
    "df['balanceDiffDest'] = df['newbalanceDest'] - df['oldbalanceDest']"
   ]
  },
  {
   "cell_type": "code",
   "execution_count": null,
   "id": "3e5d7667-410a-4397-9676-7eb467090078",
   "metadata": {},
   "outputs": [],
   "source": [
    "# Verificando anomalia -> aumento de saldo após o envio de valor\n",
    "(df['balanceDiffOrig'] < 0).sum()"
   ]
  },
  {
   "cell_type": "code",
   "execution_count": null,
   "id": "024bdc87-52f3-48d7-91ba-3f669dfa0614",
   "metadata": {},
   "outputs": [],
   "source": [
    "# Verificando anomalia -> diminuição de saldo após recebimento de valor\n",
    "(df['balanceDiffDest'] < 0).sum()"
   ]
  },
  {
   "cell_type": "code",
   "execution_count": null,
   "id": "4ff62980-3af7-4d26-9a44-b585612a4662",
   "metadata": {},
   "outputs": [],
   "source": [
    "# Verificando fraudes ao longo do tempo\n",
    "# No geral, não é possível identificar relação tempo x fraudes, podemos descartar a coluna step\n",
    "frauds_per_step = df[df['isFraud'] == 1]['step'].value_counts().sort_index()\n",
    "plt.plot(frauds_per_step.index, frauds_per_step.values, label='Frauds per Step')\n",
    "plt.xlabel('Step(Time)')\n",
    "plt.ylabel('Number of Frauds')\n",
    "plt.title('Frauds Over Time')\n",
    "plt.show()"
   ]
  },
  {
   "cell_type": "code",
   "execution_count": null,
   "id": "d0afe5bb-25a0-4ae7-937e-f78a544c2757",
   "metadata": {},
   "outputs": [],
   "source": [
    "# Deletando coluna stp\n",
    "df.drop(columns='step', inplace=True)"
   ]
  },
  {
   "cell_type": "markdown",
   "id": "83e0bc6e-68bc-46d1-ab2c-717d432a04bf",
   "metadata": {},
   "source": [
    "### Analisando comportamento de usuários"
   ]
  },
  {
   "cell_type": "code",
   "execution_count": null,
   "id": "83e42687-5c65-4d6d-9a41-38b48f6eb8fa",
   "metadata": {},
   "outputs": [],
   "source": [
    "# Top senders\n",
    "top_senders = df['nameOrig'].value_counts().head(10)\n",
    "top_senders"
   ]
  },
  {
   "cell_type": "code",
   "execution_count": null,
   "id": "1be6d0e5-6370-4f87-b750-b545d3d3b87a",
   "metadata": {},
   "outputs": [],
   "source": [
    "# Top receivers\n",
    "top_receivers = df['nameDest'].value_counts().head(10)\n",
    "top_receivers"
   ]
  },
  {
   "cell_type": "code",
   "execution_count": null,
   "id": "06f8dbe6-f05f-45f2-a2f8-8fdef99edec0",
   "metadata": {},
   "outputs": [],
   "source": [
    "# Relação usuários x fraudes\n",
    "fraud_users = df[df['isFraud'] == 1]['nameOrig'].value_counts().head(10)\n",
    "fraud_users"
   ]
  },
  {
   "cell_type": "code",
   "execution_count": null,
   "id": "5943886d-fa4b-4839-a225-534373269e3a",
   "metadata": {},
   "outputs": [],
   "source": [
    "# Distribuição de fraudes de acordo com o tipo de transação\n",
    "fraud_types = df[df['type'].isin(['TRANSFER', 'CASH_OUT'])]\n",
    "fraud_types['type'].value_counts()"
   ]
  },
  {
   "cell_type": "code",
   "execution_count": null,
   "id": "a7d3ea1d-da01-4641-a045-b174ac606fbe",
   "metadata": {},
   "outputs": [],
   "source": [
    "# Visualizando a distribuição de fraudes de acordo com o tipo de transação\n",
    "sns.countplot(data=fraud_types, x='type', hue='isFraud')\n",
    "plt.title('Fraud Distribution in Transfer and Cash Out')\n",
    "plt.show()"
   ]
  },
  {
   "cell_type": "code",
   "execution_count": null,
   "id": "341d2085-a860-4bd1-b7ea-fffda3a84875",
   "metadata": {},
   "outputs": [],
   "source": [
    "#\n",
    "zero_after_transfer = df[\n",
    "    (df['oldbalanceOrg'] > 0) &\n",
    "    (df['newbalanceOrig'] == 0) &\n",
    "    (df['type'].isin(['TRANSFER', 'CASHOUT']))\n",
    "]\n",
    "\n",
    "len(zero_after_transfer)"
   ]
  },
  {
   "cell_type": "code",
   "execution_count": null,
   "id": "c16df395-8bca-4d49-986c-c7c2e3e2ea83",
   "metadata": {},
   "outputs": [],
   "source": [
    "zero_after_transfer.head()"
   ]
  },
  {
   "cell_type": "code",
   "execution_count": null,
   "id": "7d298d7f-b9b5-4a51-8ace-8b905ce4447c",
   "metadata": {},
   "outputs": [],
   "source": [
    "# Matriz de correlação\n",
    "corr = df[['amount', 'oldbalanceOrg', 'newbalanceOrig', 'oldbalanceDest', 'newbalanceDest', 'isFraud']].corr()\n",
    "\n",
    "sns.heatmap(corr, annot=True, fmt='.2f')\n",
    "plt.title('Correlation Matrix')\n",
    "plt.show()"
   ]
  },
  {
   "cell_type": "markdown",
   "id": "6d3f0536-bacf-4eed-8304-e30b5bc20505",
   "metadata": {},
   "source": [
    "### Preparando dados para nosso modelo preditivo"
   ]
  },
  {
   "cell_type": "code",
   "execution_count": null,
   "id": "d1bbc735-dfef-497b-8efd-bc59b9d1af5f",
   "metadata": {},
   "outputs": [],
   "source": [
    "# Deletando colunas que não serão úteis para nosso modelo\n",
    "df_model = df.drop(['nameOrig', 'nameDest', 'isFlaggedFraud'], axis=1)\n",
    "df_model.head()"
   ]
  },
  {
   "cell_type": "code",
   "execution_count": null,
   "id": "bd84034a-f23a-42f9-9fa7-ef8d601775d0",
   "metadata": {},
   "outputs": [],
   "source": [
    "# Separando em variáveis categóricas e numéricas\n",
    "categorical = ['type']\n",
    "numeric = ['amount', 'oldbalanceOrg', 'newbalanceOrig', 'oldbalanceDest', 'newbalanceDest']"
   ]
  },
  {
   "cell_type": "code",
   "execution_count": null,
   "id": "a5406d11-ef10-4fe5-87d2-7951d5dd1231",
   "metadata": {},
   "outputs": [],
   "source": [
    "# Variável target\n",
    "y = df_model['isFraud']\n",
    "\n",
    "# Variáveis preditoras\n",
    "X = df_model.drop('isFraud', axis=1)"
   ]
  },
  {
   "cell_type": "code",
   "execution_count": null,
   "id": "bb092e87-fe41-496d-a7fc-1ab2d56e6812",
   "metadata": {},
   "outputs": [],
   "source": [
    "# Divisão em treino e teste\n",
    "X_train, X_test, y_train, y_test = train_test_split(X, y, test_size=0.3, stratify=y)"
   ]
  },
  {
   "cell_type": "code",
   "execution_count": null,
   "id": "b9cd60e6-d1de-4f09-ab9e-0325c7d721c8",
   "metadata": {},
   "outputs": [],
   "source": [
    "preprocessor = ColumnTransformer(\n",
    "    transformers = [\n",
    "        ('num', StandardScaler(), numeric),\n",
    "        ('cat', OneHotEncoder(drop='first'), categorical)\n",
    "    ],\n",
    "    remainder = 'drop'\n",
    ")"
   ]
  },
  {
   "cell_type": "code",
   "execution_count": null,
   "id": "218560b4-3746-4aef-a4f8-115749575307",
   "metadata": {},
   "outputs": [],
   "source": [
    "pipeline = Pipeline([\n",
    "    ('prep', preprocessor),\n",
    "    ('clf', LogisticRegression(class_weight='balanced', max_iter=1000))\n",
    "])"
   ]
  },
  {
   "cell_type": "code",
   "execution_count": null,
   "id": "95e354ff-62c5-49fc-a4dd-a99ae50722ed",
   "metadata": {},
   "outputs": [],
   "source": [
    "pipeline.fit(X_train, y_train)"
   ]
  },
  {
   "cell_type": "code",
   "execution_count": null,
   "id": "59d16dab-0714-4139-a77f-fd2deb9ee5ec",
   "metadata": {},
   "outputs": [],
   "source": [
    "y_pred = pipeline.predict(X_test)"
   ]
  },
  {
   "cell_type": "code",
   "execution_count": null,
   "id": "72ec45be-9f4a-4ba8-9189-608900fcfe2b",
   "metadata": {},
   "outputs": [],
   "source": [
    "print(classification_report(y_test, y_pred))"
   ]
  },
  {
   "cell_type": "code",
   "execution_count": null,
   "id": "5c07df40-79bc-4b2b-b519-83d377416e0b",
   "metadata": {},
   "outputs": [],
   "source": [
    "confusion_matrix(y_test, y_pred)"
   ]
  },
  {
   "cell_type": "code",
   "execution_count": null,
   "id": "67a6d05b-f3e7-4e75-9161-bdc7f09cc8a6",
   "metadata": {},
   "outputs": [],
   "source": [
    "pipeline.score(X_test, y_test) * 100"
   ]
  },
  {
   "cell_type": "code",
   "execution_count": null,
   "id": "ff2b29a6-536c-4058-b973-d6ce09bb4b2f",
   "metadata": {},
   "outputs": [],
   "source": [
    "import joblib\n",
    "\n",
    "joblib.dump(pipeline, 'fraud_detection_pipeline.pkl')"
   ]
  },
  {
   "cell_type": "code",
   "execution_count": null,
   "id": "eb8c3dce-f861-445a-bcaa-08c32ef89cf6",
   "metadata": {},
   "outputs": [],
   "source": []
  },
  {
   "cell_type": "code",
   "execution_count": null,
   "id": "645f9d91-2b5c-4c93-8933-5940948f97b1",
   "metadata": {},
   "outputs": [],
   "source": []
  },
  {
   "cell_type": "code",
   "execution_count": null,
   "id": "bc8585df-c7f0-4649-9d40-e4f4a0777a71",
   "metadata": {},
   "outputs": [],
   "source": []
  },
  {
   "cell_type": "code",
   "execution_count": null,
   "id": "a7782b06-baaf-4378-b7bb-35f1c6090123",
   "metadata": {},
   "outputs": [],
   "source": []
  }
 ],
 "metadata": {
  "kernelspec": {
   "display_name": "Python 3 (ipykernel)",
   "language": "python",
   "name": "python3"
  },
  "language_info": {
   "codemirror_mode": {
    "name": "ipython",
    "version": 3
   },
   "file_extension": ".py",
   "mimetype": "text/x-python",
   "name": "python",
   "nbconvert_exporter": "python",
   "pygments_lexer": "ipython3",
   "version": "3.12.7"
  }
 },
 "nbformat": 4,
 "nbformat_minor": 5
}
